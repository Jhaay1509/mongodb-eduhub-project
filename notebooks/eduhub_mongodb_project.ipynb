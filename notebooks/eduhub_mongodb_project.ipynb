{
 "cells": [
  {
   "cell_type": "code",
   "execution_count": 1,
   "id": "91fa342a",
   "metadata": {},
   "outputs": [],
   "source": [
    "#Importing required libraries\n",
    "\n",
    "from pymongo import MongoClient\n",
    "from bson.objectid import ObjectId\n",
    "import pandas as pd\n",
    "from datetime import datetime, timedelta\n",
    "import random\n",
    "from faker import Faker"
   ]
  },
  {
   "cell_type": "code",
   "execution_count": 50,
   "id": "9ac64a7c",
   "metadata": {},
   "outputs": [],
   "source": [
    "# Connect to the local MongoDB server and select the 'eduhub_db' database\n",
    "client = MongoClient(\"mongodb://localhost:27017/\")\n",
    "db = client[\"eduhub_db\"]\n",
    "\n",
    "# Define collection references for easier access\n",
    "users = db[\"users\"]\n",
    "courses = db[\"courses\"]\n",
    "lesson = db[\"lesson\"]\n",
    "assignment = db[\"assignment\"]\n",
    "assignment_submission = db[\"assignment_submission\"]\n",
    "enrollment = db[\"enrollment\"]\n"
   ]
  },
  {
   "cell_type": "code",
   "execution_count": 3,
   "id": "ca9cf4a1",
   "metadata": {},
   "outputs": [],
   "source": [
    "#Create a faker instance\n",
    "fake = Faker()"
   ]
  },
  {
   "cell_type": "code",
   "execution_count": 4,
   "id": "a51e038c",
   "metadata": {},
   "outputs": [],
   "source": [
    "user_schema = {\n",
    "\n",
    "    \"_id\": ObjectId(),\n",
    "    \n",
    "    \"user_id\": \"user_1\",\n",
    "\n",
    "    \"email\": \"first.last@example.com\",\n",
    "\n",
    "    \"first_name\": \"first\",\n",
    "\n",
    "    \"last_name\": \"last\",\n",
    "\n",
    "    \"role\": \"student\",\n",
    "\n",
    "    \"date_joined\": datetime.now(),\n",
    "\n",
    "    \"profile\": {\n",
    "\n",
    "        \"bio\": \"easy_life\",\n",
    "\n",
    "        \"avatar\": \"stay_wicked\",\n",
    "\n",
    "        \"skills\": \"engineering\"\n",
    "\n",
    "    },\n",
    "\n",
    "    \"is_active\": True\n",
    "\n",
    "}"
   ]
  },
  {
   "cell_type": "markdown",
   "id": "7b6090b7",
   "metadata": {},
   "source": [
    "Part 3: Basic CRUD Operations "
   ]
  },
  {
   "cell_type": "code",
   "execution_count": 48,
   "id": "193a676a",
   "metadata": {},
   "outputs": [],
   "source": [
    "# find one document\n",
    "def find_document(col, query, projection=None):\n",
    "    try:\n",
    "        res = col.find_one(query, projection)\n",
    "        return res\n",
    "    except Exception as e:\n",
    "        print(f\"Error finding document: {e}\")\n",
    "        return None\n",
    "\n",
    "#find many documents\n",
    "def find_many_documents(col, query, projection=None):\n",
    "    try:\n",
    "        result = []\n",
    "        res = col.find(query, projection)\n",
    "        for doc in res:\n",
    "            result.append(doc)\n",
    "        return result\n",
    "    except Exception as e:\n",
    "        print(f\"Error finding many documents: {e}\")\n",
    "        return None\n",
    "\n",
    "def insert_one(col, document):\n",
    "    try:\n",
    "        res = col.insert_one(document)\n",
    "    except Exception as e:\n",
    "        print(f\"error inserting: {e}\")\n",
    "        return None\n",
    "    return res.inserted_id\n",
    "\n",
    "def delete_document(col, query):\n",
    "    try:\n",
    "        res = col.delete_one(query)\n",
    "    except Exception as e:\n",
    "        print(f\"error deleting: {e}\")\n",
    "    return res.deleted_count\n",
    "\n",
    "def insert_many(col, documents):\n",
    "    try:\n",
    "        res = col.insert_many(documents)\n",
    "        return len(res.inserted_ids)\n",
    "    except Exception as e:\n",
    "        print(f\"error inserting: {e}\")\n",
    "        return 0\n",
    "    \n",
    "def delete_many_document(col, query):\n",
    "    try:\n",
    "        res = col.delete_many(query)\n",
    "        return res.deleted_count\n",
    "    except Exception as e:\n",
    "        print(f\"error deleting: {e}\")\n",
    "        return 0\n",
    "    \n",
    "#update one document\n",
    "def update_document(col, query, update):\n",
    "    try:\n",
    "        result = col.update_one(query, update)\n",
    "        return result.modified_count\n",
    "    except Exception as e:\n",
    "        print(f\"Error updating document: {e}\")\n",
    "        return None\n",
    "\n",
    "#update many documents\n",
    "def update_many_documents(col, query, update):\n",
    "    try:\n",
    "        result = col.update_many(query, update)\n",
    "        return result.modified_count\n",
    "    except Exception as e:\n",
    "        print(f\"Error updating many documents: {e}\")\n",
    "        return None"
   ]
  },
  {
   "cell_type": "markdown",
   "id": "91286175",
   "metadata": {},
   "source": [
    "AGGREGATION FUNCTION"
   ]
  },
  {
   "cell_type": "code",
   "execution_count": 6,
   "id": "9fa7da8e",
   "metadata": {},
   "outputs": [],
   "source": [
    "def aggregate(col, query):\n",
    "    try:\n",
    "        result = []\n",
    "        resp= col.aggregate(query)\n",
    "        for res in resp:\n",
    "            result.append(res)\n",
    "        print(len(result))\n",
    "        return result\n",
    "    except Exception as e:\n",
    "        print(f\"Error updating document: {e}\")\n",
    "        return None\n"
   ]
  },
  {
   "cell_type": "markdown",
   "id": "23868eea",
   "metadata": {},
   "source": [
    "INDEX FUNCTION\n"
   ]
  },
  {
   "cell_type": "code",
   "execution_count": 7,
   "id": "a27646e8",
   "metadata": {},
   "outputs": [],
   "source": [
    "def create_index_safe(col, field_name, unique=False, order=1):\n",
    "    try:\n",
    "        index_name = col.create_index([(field_name, order)], unique=unique)\n",
    "        print(f\" Index '{index_name}' created on '{field_name}' field.\")\n",
    "        return index_name\n",
    "    except Exception as e:\n",
    "        print(f\" Error creating index: {e}\")\n",
    "        return None\n"
   ]
  },
  {
   "cell_type": "code",
   "execution_count": 8,
   "id": "23a25b90",
   "metadata": {},
   "outputs": [],
   "source": [
    "# Data pools for randomization\n",
    "first_names = [\n",
    "    \"Ade\", \"Chinedu\", \"Funke\", \"Grace\", \"Ibrahim\", \"Kemi\", \"Olu\", \"Tunde\", \n",
    "    \"Ngozi\", \"Chika\", \"Emeka\", \"Bola\", \"Yusuf\", \"Amina\", \"Eze\", \"Fatima\",\n",
    "    \"Obinna\", \"Zainab\", \"Segun\", \"Halima\", \"Chukwu\", \"Adanna\", \"Mohammed\", \"Temitope\",\n",
    "    \"Kunle\", \"Amara\", \"Sani\", \"Ifeoma\", \"Okonkwo\", \"Zara\", \"Jide\", \"Deborah\",\n",
    "    \"Musa\", \"Chidinma\", \"Wale\", \"Patience\", \"Abdul\", \"Chioma\", \"Femi\", \"Blessing\"\n",
    "]\n",
    "\n",
    "last_names = [\n",
    "    \"Adebayo\", \"Chukwu\", \"Eze\", \"Okafor\", \"Sule\", \"Yusuf\", \"Balogun\", \"Okoro\",\n",
    "    \"Mohammed\", \"Ogunleye\", \"Ibrahim\", \"Nwosu\", \"Adeyemi\", \"Bello\", \"Okafor\",\n",
    "    \"Mustapha\", \"Obi\", \"Aliyu\", \"Akintola\", \"Onyema\", \"Salami\", \"Umar\", \"Olu\",\n",
    "    \"Bakare\", \"Okeke\", \"Adewale\", \"Ojo\", \"Adeleke\", \"Oladipo\", \"Akinwande\",\n",
    "    \"Onyeka\", \"Alade\", \"Okonkwo\", \"Onyeama\", \"Afolayan\", \"Okorie\", \"Onyia\", \"Uche\",\n",
    "    \"Okoh\", \"Ogbonna\"\n",
    "]\n",
    "\n",
    "avatar = [\"stay_wicked\", \"blessed_assurance\", \"warmly_endurance\", \"brutal_tenancious\"]\n",
    "\n",
    "interests = [\"reading\", \"writing\", \"coding\", \"designing\", \"marketing\", \"sales\", \"management\", \"finance\",\n",
    "             \"hr\", \"it\", \"networking\", \"security\", \"database\", \"cloud\", \"devops\", \"blockchain\", \n",
    "            \"iot\", \"mobile\", \"cybersecurity\", \"big data\", \"data visualization\", \"ui/ux design\", \"blockchain\", \"cybersecurity\", \"data science\", \n",
    "            \"data analysis\", \"data engineering\", \"data visualization\", \"data mining\", \"data warehousing\", \"data modeling\", \"data cleaning\", \"data integration\",\n",
    "            \"data transformation\", \"data loading\", \"data storage\", \"data retrieval\", \"data processing\", \"data analysis\", \"data mining\", \"data warehousing\",\n",
    "            \"data modeling\", \"data cleaning\", \"data integration\", \"data transformation\", \"data loading\", \"data storage\", \"data retrieval\", \"data processing\"]"
   ]
  },
  {
   "cell_type": "code",
   "execution_count": null,
   "id": "27ed956b",
   "metadata": {},
   "outputs": [],
   "source": []
  },
  {
   "cell_type": "markdown",
   "id": "5330209b",
   "metadata": {},
   "source": [
    "USER COLLECTION SCHEMA"
   ]
  },
  {
   "cell_type": "code",
   "execution_count": null,
   "id": "f428e0a6",
   "metadata": {
    "vscode": {
     "languageId": "coffeescript"
    }
   },
   "outputs": [],
   "source": [
    "# Example document structure for the 'users' collection\n",
    "user_schema = {\n",
    "\n",
    "    \"_id\": ObjectId(),                # Unique identifier automatically generated by MongoDB\n",
    "\n",
    "    \"user_id\": \"user_1\",              # Custom user identifier (for reference in other collections)\n",
    "\n",
    "    \"email\": \"first.last@example.com\",# User's email address\n",
    "\n",
    "    \"first_name\": \"first\",            # User's first name\n",
    "    \"last_name\": \"last\",              # User's last name\n",
    "\n",
    "    \"role\": \"student\",                # User role (e.g., student, instructor, admin)\n",
    "\n",
    "    \"date_joined\": datetime.now(),    # Date the user registered or joined\n",
    "\n",
    "    \"profile\": {                      # Nested profile details\n",
    "        \"bio\": \"easy_life\",           # Short personal or professional description\n",
    "        \"avatar\": \"stay_wicked\",      # Avatar name or image reference\n",
    "        \"skills\": \"engineering\"       # User’s skill or area of expertise\n",
    "    },\n",
    "\n",
    "    \"is_active\": True                 # Indicates if the user account is active\n",
    "}\n"
   ]
  },
  {
   "cell_type": "markdown",
   "id": "c4839463",
   "metadata": {},
   "source": [
    "20 users (mix of students and instructors)"
   ]
  },
  {
   "cell_type": "code",
   "execution_count": 9,
   "id": "8279b847",
   "metadata": {},
   "outputs": [],
   "source": [
    "# Generate sample user documents\n",
    "users_list = []\n",
    "for i in range(1, 21):\n",
    "    first_name = random.choice(first_names)\n",
    "    last_name = random.choice(last_names)\n",
    "\n",
    "    users_dict = {\n",
    "        \"_id\": ObjectId(),  # Unique MongoDB ID\n",
    "        \"user_id\": f\"user_{i}\",\n",
    "        \"first_name\": first_name,\n",
    "        \"last_name\": last_name,\n",
    "        \"email\": f\"{first_name.lower()}.{last_name.lower()}@eduhub.com\",\n",
    "        \"role\": \"student\" if i < 17 else \"instructor\",  # First 16 are students, last 4 are instructors\n",
    "        \"date_joined\": datetime.now(),\n",
    "        \"profile\": {\n",
    "            \"bio\": f\"I am {first_name}, based in {fake.city()} with interest in {random.choice(interests)} and {random.choice(interests)}\",\n",
    "            \"avatar\": random.choice(avatar),\n",
    "            \"skills\": random.sample(interests, 4)\n",
    "        },\n",
    "        \"is_active\": random.choice([True, False, True])  # Randomly set account as active/inactive\n",
    "    }\n",
    "\n",
    "    users_list.append(users_dict)\n",
    "\n",
    "\n"
   ]
  },
  {
   "cell_type": "code",
   "execution_count": 10,
   "id": "bc3ac668",
   "metadata": {},
   "outputs": [
    {
     "name": "stdout",
     "output_type": "stream",
     "text": [
      "error inserting: batch op errors occurred, full error: {'writeErrors': [{'index': 5, 'code': 11000, 'errmsg': 'E11000 duplicate key error collection: eduhub_db.users index: email_1 dup key: { email: \"blessing.yusuf@eduhub.com\" }', 'keyPattern': {'email': 1}, 'keyValue': {'email': 'blessing.yusuf@eduhub.com'}, 'op': {'_id': ObjectId('68e2dc56c3defe6ef29302d8'), 'user_id': 'user_6', 'first_name': 'Blessing', 'last_name': 'Yusuf', 'email': 'blessing.yusuf@eduhub.com', 'role': 'student', 'date_joined': datetime.datetime(2025, 10, 5, 22, 0, 6, 899034), 'profile': {'bio': 'I am Blessing, based in West Larryshire with interest in ui/ux design and data warehousing', 'avatar': 'blessed_assurance', 'skills': ['writing', 'blockchain', 'designing', 'blockchain']}, 'is_active': True}}], 'writeConcernErrors': [], 'nInserted': 5, 'nUpserted': 0, 'nMatched': 0, 'nModified': 0, 'nRemoved': 0, 'upserted': []}\n"
     ]
    },
    {
     "data": {
      "text/plain": [
       "0"
      ]
     },
     "execution_count": 10,
     "metadata": {},
     "output_type": "execute_result"
    }
   ],
   "source": [
    "# Insert all user documents into the 'users' collection\n",
    "insert_many(users, users_list)\n"
   ]
  },
  {
   "cell_type": "markdown",
   "id": "ccfdaa87",
   "metadata": {},
   "source": [
    "COURSE COLLECTION SCHEMA"
   ]
  },
  {
   "cell_type": "code",
   "execution_count": 11,
   "id": "63ec6c2f",
   "metadata": {},
   "outputs": [],
   "source": [
    "# Example document structure for the 'courses' collection\n",
    "course_schema = {\n",
    "    \"_id\": ObjectId(),                           # Unique MongoDB document ID\n",
    "    \"course_id\": \"course_1\",                     # Custom course identifier\n",
    "    \"title\": \"databases\",                        # Course title\n",
    "    \"description\": \"introduction to databases\",  # Short course description\n",
    "    \"instructorId\": \"user_17\",                   # Reference to the instructor (from users collection)\n",
    "    \"category\": random.choice([\"cs\", \"data\", \"math\", \"cloud\"]),  # Course category\n",
    "    \"level\": random.choice([\"beginner\", \"intermediate\", \"advanced\"]),  # Difficulty level\n",
    "    \"duration\": random.choice([6, 8, 10, 12]),   # Duration in weeks\n",
    "    \"price\": random.choice([0, 29, 49, 79]),     # Course price\n",
    "    \"tag\": random.sample([\"mongo\", \"python\", \"etl\", \"devops\", \"cloud\", \"math\"], 3),  # Related tags\n",
    "    \"createdAt\": datetime.now(),                 # Creation timestamp\n",
    "    \"updatedAt\": datetime.now(),                 # Last update timestamp\n",
    "    \"isPublished\": random.choice([True, True, False])  # Publication status\n",
    "}\n"
   ]
  },
  {
   "cell_type": "code",
   "execution_count": 12,
   "id": "82404833",
   "metadata": {},
   "outputs": [],
   "source": [
    "# Filter and store all users with the role 'instructor' from the users list\n",
    "instructors = [user for user in users_list if user[\"role\"] == \"instructor\"]\n"
   ]
  },
  {
   "cell_type": "markdown",
   "id": "c093aa9b",
   "metadata": {},
   "source": [
    "8 courses across different categories\n"
   ]
  },
  {
   "cell_type": "code",
   "execution_count": 13,
   "id": "5b1a1d25",
   "metadata": {},
   "outputs": [],
   "source": [
    "course_titles = [\n",
    "    \"Intro to Databases\", \"Aggregation Piplines\", \"Python for Data\",\n",
    "    \"Discrete Math\", \"NoSql\", \"Algorithm 101\",\n",
    "    \"Devops Basics\", \"Cloud Fundamentals\"\n",
    "]\n",
    "\n",
    "course_list = []\n",
    "\n",
    "for i, course_title in enumerate(course_titles):\n",
    "    instructor = random.choice(instructors)\n",
    "\n",
    "    # generate a random float between 1.0 and 5.0 with 1 decimal place\n",
    "    rating = round(random.uniform(3.0, 5.0), 1)\n",
    "\n",
    "    course_dict ={\n",
    "    \"_id\": ObjectId(),\n",
    "    \"course_id\": f\"course_{i+1}\",\n",
    "    \"title\": course_titles[i],\n",
    "    \"description\": f\"introduction to {course_titles[i]}\",\n",
    "    \"instructorId\": instructor[\"user_id\"],\n",
    "    \"category\": random.choice([\"cs\", \"data\", \"math\", \"cloud\"]),\n",
    "    \"level\": random.choice([\"beginner\", \"intermediate\", \"advanced\"]),\n",
    "    \"duration\":random.choice([6, 8, 10,12]),\n",
    "    \"price\": random.choice([0,29, 49, 79]),\n",
    "    \"tag\": random.sample([\"mongo\", \"python\", \"etl\", \"devops\", \"cloud\", \"math\"], 3),\n",
    "    \"rating\": rating, \n",
    "    \"createdAt\": datetime.now(),\n",
    "    \"updatedAt\": datetime.now(),\n",
    "    \"isPublished\":random.choice([True, True, False]),\n",
    "    \n",
    "\n",
    "    }\n",
    "    \n",
    "    course_list.append(course_dict)"
   ]
  },
  {
   "cell_type": "code",
   "execution_count": 14,
   "id": "bc21fc0b",
   "metadata": {},
   "outputs": [
    {
     "data": {
      "text/plain": [
       "8"
      ]
     },
     "execution_count": 14,
     "metadata": {},
     "output_type": "execute_result"
    }
   ],
   "source": [
    "# Insert all course documents into the 'courses' collection\n",
    "insert_many(courses, course_list)\n"
   ]
  },
  {
   "cell_type": "markdown",
   "id": "cb3ebe09",
   "metadata": {},
   "source": [
    "LESSON COLLECTION SCHEMA"
   ]
  },
  {
   "cell_type": "code",
   "execution_count": 15,
   "id": "abc446d4",
   "metadata": {},
   "outputs": [],
   "source": [
    "# Example document structure for the 'lesson' collection\n",
    "lesson_schema = {\n",
    "    \"_id\": ObjectId(),                          # Unique MongoDB document ID\n",
    "    \"lesson_id\": \"lesson_1\",                    # Custom lesson identifier\n",
    "    \"course_id\": \"course_1\",                    # Reference to the related course\n",
    "    \"instructor_id\": \"instructor_1\",            # Reference to the instructor teaching the lesson\n",
    "    \"title\": \"exploring mongodb\",               # Lesson title\n",
    "    \"topics\": [\"indexes\", \"collection\", \"queries\"],  # List of topics covered in the lesson\n",
    "    \"description\": \"This lesson introduces mongodb\"  # Brief summary of the lesson content\n",
    "}\n"
   ]
  },
  {
   "cell_type": "markdown",
   "id": "6237fee1",
   "metadata": {},
   "source": [
    "Logic to create 25 lessons"
   ]
  },
  {
   "cell_type": "code",
   "execution_count": 16,
   "id": "f1d9d498",
   "metadata": {},
   "outputs": [
    {
     "name": "stdout",
     "output_type": "stream",
     "text": [
      "25\n"
     ]
    }
   ],
   "source": [
    "\n",
    "\n",
    "# Pool of possible lesson topics\n",
    "topics_pool = [\n",
    "    \"Introduction\", \"Core Concepts\", \"Hands-on Practice\",\n",
    "    \"Advanced Techniques\", \"Case Study\", \"Troubleshooting\",\n",
    "    \"Best Practices\", \"Optimization\", \"Assessment\", \"Review\"\n",
    "]\n",
    "\n",
    "lesson_list = []\n",
    "\n",
    "# Generate three lessons for each course\n",
    "for course in course_list:\n",
    "    for n in range(3):\n",
    "        topic = random.choice(topics_pool)\n",
    "        lesson_dict = {\n",
    "            \"_id\": ObjectId(),\n",
    "            \"lesson_id\": f\"lesson_{len(lesson_list)+1}\",\n",
    "            \"course_id\": course[\"course_id\"],\n",
    "            \"instructor_id\": course[\"instructorId\"],\n",
    "            \"title\": f\"exploring {course['title']} - {topic}\",\n",
    "            \"topic\": topic,\n",
    "            \"resources_url\": \"hhtps://contentname@eduhub.com\",\n",
    "            \"description\": f\"This lesson covers {topic} in {course['title']}\"\n",
    "        }\n",
    "        lesson_list.append(lesson_dict)\n",
    "\n",
    "# Add one extra lesson randomly\n",
    "course = random.choice(course_list)\n",
    "topic = random.choice(topics_pool)\n",
    "\n",
    "lesson_dict = {\n",
    "    \"_id\": ObjectId(),\n",
    "    \"lesson_id\": f\"lesson_{len(lesson_list)+1}\",\n",
    "    \"course_id\": course[\"course_id\"],\n",
    "    \"instructor_id\": course[\"instructorId\"],\n",
    "    \"title\": f\"exploring {course['title']} - {topic}\",\n",
    "    \"topic\": topic,\n",
    "    \"resources_url\": \"hhtps://contentname@eduhub.com\",\n",
    "    \"description\": f\"This lesson covers {topic} in {course['title']}\"\n",
    "}\n",
    "\n",
    "lesson_list.append(lesson_dict)\n",
    "\n",
    "print(len(lesson_list))\n",
    "\n",
    "\n",
    "\n",
    "\n"
   ]
  },
  {
   "cell_type": "code",
   "execution_count": 17,
   "id": "d3c83b19",
   "metadata": {},
   "outputs": [
    {
     "data": {
      "text/plain": [
       "25"
      ]
     },
     "execution_count": 17,
     "metadata": {},
     "output_type": "execute_result"
    }
   ],
   "source": [
    "# Insert all lesson documents into the 'lesson' collection\n",
    "insert_many(lesson, lesson_list)\n"
   ]
  },
  {
   "cell_type": "markdown",
   "id": "76bfff44",
   "metadata": {},
   "source": [
    "ASSIGNMENT COLLECTION SCHEMA"
   ]
  },
  {
   "cell_type": "code",
   "execution_count": 18,
   "id": "eaf36b14",
   "metadata": {},
   "outputs": [],
   "source": [
    "# Example document structure for the 'assignment' collection\n",
    "assignment_schema = {\n",
    "    \"_id\": ObjectId(),                                        # Unique MongoDB document ID\n",
    "    \"assignment_id\": \"assignment_1\",                          # Custom assignment identifier\n",
    "    \"student_id\": \"student_1\",                                # Reference to the assigned student\n",
    "    \"lesson_id\": \"lesson_1\",                                  # Reference to the related lesson\n",
    "    \"course_id\": \"course_1\",                                  # Reference to the related course\n",
    "    \"due_date\": datetime(2025, 10, 30),                       # Assignment submission deadline\n",
    "    \"description\": \"This assignment test on introduction to databases\",  # Brief description\n",
    "    \"grade\": \"B+\",                                            # Letter grade received\n",
    "    \"grade_point\": 3.3                                        # Numeric grade equivalent\n",
    "}\n"
   ]
  },
  {
   "cell_type": "markdown",
   "id": "298e0388",
   "metadata": {},
   "source": [
    "Logic go create 10 assignments"
   ]
  },
  {
   "cell_type": "code",
   "execution_count": 19,
   "id": "0b97204c",
   "metadata": {},
   "outputs": [
    {
     "name": "stdout",
     "output_type": "stream",
     "text": [
      "[{'_id': ObjectId('68e2dc57c3defe6ef293030b'), 'assignment_id': 'assignment_1', 'student_id': ['student1', 'student2', 'student3', 'student4', 'student5', 'student6', 'student7', 'student8', 'student9', 'student10', 'student11', 'student12', 'student13', 'student14', 'student15', 'student16'], 'lesson_id': 'lesson_1', 'course_id': 'course_1', 'due_date': datetime.datetime(2025, 11, 2, 22, 0, 7, 53322), 'description': 'This assignment test on Hands-on Practice', 'grade': 'F', 'grade_point': 0.0}, {'_id': ObjectId('68e2dc57c3defe6ef293030c'), 'assignment_id': 'assignment_2', 'student_id': ['student1', 'student2', 'student3', 'student4', 'student5', 'student6', 'student7', 'student8', 'student9', 'student10', 'student11', 'student12', 'student13', 'student14', 'student15', 'student16'], 'lesson_id': 'lesson_2', 'course_id': 'course_1', 'due_date': datetime.datetime(2025, 10, 12, 22, 0, 7, 53339), 'description': 'This assignment test on Review', 'grade': 'D', 'grade_point': 1.0}, {'_id': ObjectId('68e2dc57c3defe6ef293030d'), 'assignment_id': 'assignment_3', 'student_id': ['student1', 'student2', 'student3', 'student4', 'student5', 'student6', 'student7', 'student8', 'student9', 'student10', 'student11', 'student12', 'student13', 'student14', 'student15', 'student16'], 'lesson_id': 'lesson_3', 'course_id': 'course_1', 'due_date': datetime.datetime(2025, 10, 25, 22, 0, 7, 53346), 'description': 'This assignment test on Core Concepts', 'grade': 'D', 'grade_point': 1.0}, {'_id': ObjectId('68e2dc57c3defe6ef293030e'), 'assignment_id': 'assignment_4', 'student_id': ['student1', 'student2', 'student3', 'student4', 'student5', 'student6', 'student7', 'student8', 'student9', 'student10', 'student11', 'student12', 'student13', 'student14', 'student15', 'student16'], 'lesson_id': 'lesson_4', 'course_id': 'course_2', 'due_date': datetime.datetime(2025, 10, 15, 22, 0, 7, 53353), 'description': 'This assignment test on Optimization', 'grade': 'B+', 'grade_point': 3.3}, {'_id': ObjectId('68e2dc57c3defe6ef293030f'), 'assignment_id': 'assignment_5', 'student_id': ['student1', 'student2', 'student3', 'student4', 'student5', 'student6', 'student7', 'student8', 'student9', 'student10', 'student11', 'student12', 'student13', 'student14', 'student15', 'student16'], 'lesson_id': 'lesson_5', 'course_id': 'course_2', 'due_date': datetime.datetime(2025, 10, 8, 22, 0, 7, 53360), 'description': 'This assignment test on Hands-on Practice', 'grade': 'A-', 'grade_point': 3.7}, {'_id': ObjectId('68e2dc57c3defe6ef2930310'), 'assignment_id': 'assignment_6', 'student_id': ['student1', 'student2', 'student3', 'student4', 'student5', 'student6', 'student7', 'student8', 'student9', 'student10', 'student11', 'student12', 'student13', 'student14', 'student15', 'student16'], 'lesson_id': 'lesson_6', 'course_id': 'course_2', 'due_date': datetime.datetime(2025, 10, 24, 22, 0, 7, 53365), 'description': 'This assignment test on Best Practices', 'grade': 'F', 'grade_point': 0.0}, {'_id': ObjectId('68e2dc57c3defe6ef2930311'), 'assignment_id': 'assignment_7', 'student_id': ['student1', 'student2', 'student3', 'student4', 'student5', 'student6', 'student7', 'student8', 'student9', 'student10', 'student11', 'student12', 'student13', 'student14', 'student15', 'student16'], 'lesson_id': 'lesson_7', 'course_id': 'course_3', 'due_date': datetime.datetime(2025, 10, 10, 22, 0, 7, 53370), 'description': 'This assignment test on Troubleshooting', 'grade': 'B-', 'grade_point': 2.7}, {'_id': ObjectId('68e2dc57c3defe6ef2930312'), 'assignment_id': 'assignment_8', 'student_id': ['student1', 'student2', 'student3', 'student4', 'student5', 'student6', 'student7', 'student8', 'student9', 'student10', 'student11', 'student12', 'student13', 'student14', 'student15', 'student16'], 'lesson_id': 'lesson_8', 'course_id': 'course_3', 'due_date': datetime.datetime(2025, 10, 10, 22, 0, 7, 53377), 'description': 'This assignment test on Troubleshooting', 'grade': 'C+', 'grade_point': 2.3}, {'_id': ObjectId('68e2dc57c3defe6ef2930313'), 'assignment_id': 'assignment_9', 'student_id': ['student1', 'student2', 'student3', 'student4', 'student5', 'student6', 'student7', 'student8', 'student9', 'student10', 'student11', 'student12', 'student13', 'student14', 'student15', 'student16'], 'lesson_id': 'lesson_9', 'course_id': 'course_3', 'due_date': datetime.datetime(2025, 10, 31, 22, 0, 7, 53382), 'description': 'This assignment test on Best Practices', 'grade': 'C+', 'grade_point': 2.3}, {'_id': ObjectId('68e2dc57c3defe6ef2930314'), 'assignment_id': 'assignment_10', 'student_id': ['student1', 'student2', 'student3', 'student4', 'student5', 'student6', 'student7', 'student8', 'student9', 'student10', 'student11', 'student12', 'student13', 'student14', 'student15', 'student16'], 'lesson_id': 'lesson_10', 'course_id': 'course_4', 'due_date': datetime.datetime(2025, 11, 1, 22, 0, 7, 53387), 'description': 'This assignment test on Best Practices', 'grade': 'B+', 'grade_point': 3.3}]\n"
     ]
    }
   ],
   "source": [
    "# # \n",
    "assignment_list_pre = []\n",
    "for i, lesson in enumerate(lesson_list):\n",
    "\n",
    "    # Mapping of letter grades to grade points\n",
    "    grade_scale = {\"A\": 4.0, \"A-\": 3.7, \"B+\": 3.3, \"B\": 3.0, \"B-\": 2.7, \"C+\": 2.3, \"C\": 2.0, \"D\": 1.0, \"F\": 0.0}\n",
    "\n",
    "    # Pick grade before creating the dictionary\n",
    "    grade = random.choice(list(grade_scale.keys()))\n",
    "\n",
    "    assignment_dict = {\n",
    "        \"_id\": ObjectId(),\n",
    "        \"assignment_id\": f\"assignment_{i+1}\",\n",
    "        \"student_id\": [f\"student{i+1}\" for i, user in enumerate(users_list) if user[\"role\"] == \"student\"],  # Linked students\n",
    "        \"lesson_id\": lesson[\"lesson_id\"],            # Reference to the related lesson\n",
    "        \"course_id\": lesson_list[i][\"course_id\"],    # Reference to the related course\n",
    "        \"due_date\": datetime.now() + timedelta(days=random.randint(0, 30)),  # Random due date within 30 days\n",
    "        \"description\": f\"This assignment test on {lesson['topic']}\",         # Assignment description\n",
    "        \"grade\": grade,                   # Random grade selection\n",
    "        \"grade_point\": grade_scale[grade]                 # Numeric grade value\n",
    "    }\n",
    "\n",
    "    assignment_list_pre.append(assignment_dict)\n",
    "\n",
    "# Limit to the first 10 assignments\n",
    "assignment_list = assignment_list_pre[:10]\n",
    "\n",
    "print(assignment_list)\n",
    "# Generate assignment documents based on existing lessons\n",
    "assignment_list_pre = []\n",
    "\n"
   ]
  },
  {
   "cell_type": "code",
   "execution_count": 20,
   "id": "50b5ecc3",
   "metadata": {},
   "outputs": [
    {
     "data": {
      "text/plain": [
       "10"
      ]
     },
     "execution_count": 20,
     "metadata": {},
     "output_type": "execute_result"
    }
   ],
   "source": [
    "# Insert all assignment documents into the 'assignment' collection\n",
    "insert_many(assignment, assignment_list)\n"
   ]
  },
  {
   "cell_type": "markdown",
   "id": "7f7970e3",
   "metadata": {},
   "source": [
    "ASSIGNMENT SUBMISSION COLLECTION SCHEMA"
   ]
  },
  {
   "cell_type": "code",
   "execution_count": 21,
   "id": "5322f096",
   "metadata": {},
   "outputs": [],
   "source": [
    "# Example document structure for the 'assignment_submission' collection\n",
    "assignment_submission_schema = {\n",
    "    \"_id\": ObjectId(),                                               # Unique MongoDB document ID\n",
    "    \"submission_id\": \"submission_1\",                                 # Custom submission identifier\n",
    "    \"description\": \"This assignment should be submitted in PDF format before the due date\",  # Submission instructions\n",
    "    \"submission_date\": datetime(2025, 10, 30),                       # Date of submission\n",
    "    \"isSubmitted\": True                                              # Indicates if the assignment was submitted\n",
    "}\n"
   ]
  },
  {
   "cell_type": "markdown",
   "id": "962c3726",
   "metadata": {},
   "source": [
    "Logic to create 12 assignment submissions"
   ]
  },
  {
   "cell_type": "code",
   "execution_count": 138,
   "id": "c7ae4464",
   "metadata": {},
   "outputs": [
    {
     "name": "stdout",
     "output_type": "stream",
     "text": [
      "12\n"
     ]
    }
   ],
   "source": [
    "# Generate sample assignment submissions\n",
    "assignment_sub_list = []\n",
    "\n",
    "\n",
    "# for i, assignment in enumerate(assignment_list_pre[:12]):\n",
    "for i in range(12):\n",
    "    # Randomize submission date (some before, some after due date)\n",
    "    submission_date = datetime(2025, 10, 30) - timedelta(days=random.choice([1, 2, 3, 4, -1, -2]))\n",
    "\n",
    "    assignment_sub_dict = {\n",
    "        \"_id\": ObjectId(),                                         # Unique MongoDB document ID\n",
    "        \"submission_id\": f\"submission_{i+1}\",                      # Custom submission identifier\n",
    "        \"description\": \"This assignment should be submitted in PDF format before the due date\",\n",
    "        \"submission_date\": submission_date,                        # Actual date of submission\n",
    "        \"isSubmitted\": True if submission_date <= datetime(2025, 10, 30) else False,  # Submission status\n",
    "        \"submission_link\": \"submission@eduhub.com\"                 # Placeholder link for submission\n",
    "    }\n",
    "\n",
    "  \n",
    "\n",
    "    assignment_sub_list.append(assignment_sub_dict)\n",
    "\n",
    "print(len(assignment_sub_list))  # Print total submissions created\n"
   ]
  },
  {
   "cell_type": "code",
   "execution_count": 139,
   "id": "6a0e9dd4",
   "metadata": {},
   "outputs": [
    {
     "data": {
      "text/plain": [
       "12"
      ]
     },
     "execution_count": 139,
     "metadata": {},
     "output_type": "execute_result"
    }
   ],
   "source": [
    "# Insert all assignment submission documents into the 'assignment_submission' collection\n",
    "insert_many(assignment_submission, assignment_sub_list)\n"
   ]
  },
  {
   "cell_type": "markdown",
   "id": "227ec811",
   "metadata": {},
   "source": [
    "ENROLLMENT SCHEMA"
   ]
  },
  {
   "cell_type": "code",
   "execution_count": 90,
   "id": "80bc2989",
   "metadata": {},
   "outputs": [],
   "source": [
    "# Example document structure for the 'enrollment' collection\n",
    "enrollment_schema = {\n",
    "    \"_id\": ObjectId(),                               # Unique MongoDB document ID\n",
    "    \"enrollment_id\": \"enrollment_1\",                 # Custom enrollment identifier\n",
    "    \"course_id\": \"course_1\",                         # Reference to the enrolled course\n",
    "    \"student_id\": \"user_1\",                          # Reference to the student\n",
    "    \"enrollment_date\": datetime(2024, 10, 30),       # Date of enrollment\n",
    "    \"is_active\": True                                # Indicates if the enrollment is currently active\n",
    "}\n"
   ]
  },
  {
   "cell_type": "code",
   "execution_count": 91,
   "id": "650f558e",
   "metadata": {},
   "outputs": [
    {
     "name": "stdout",
     "output_type": "stream",
     "text": [
      "15\n"
     ]
    }
   ],
   "source": [
    "# Filter and store all users with the role 'student'\n",
    "students_list = [user for user in users_list if user[\"role\"] == \"student\"]\n",
    "\n",
    "enrollment_list = []\n",
    "\n",
    "# Generate enrollment records for students\n",
    "for i, student in enumerate(students_list):\n",
    "    enrollment_dict = {\n",
    "        \"_id\": ObjectId(),                                            # Unique MongoDB document ID\n",
    "        \"enrollment_id\": f\"enrollment_{i+1}\",                         # Custom enrollment identifier\n",
    "        \"course_id\": random.choice(course_list)[\"course_id\"],          # Randomly assign a course to the student\n",
    "        \"student_id\": f\"user_{i+1}\",                                  # Reference to the student\n",
    "        \"enrollment_date\": datetime(2024, 10, 30) - timedelta(days=random.randint(1, 30)),  # Random enrollment date\n",
    "        \"is_active\": random.choice([True, True, True, False])          # Random active/inactive status\n",
    "    }\n",
    "\n",
    "    enrollment_list.append(enrollment_dict)\n",
    "\n",
    "# Keep only the first 15 enrollments\n",
    "enrollment_list = enrollment_list[:15]\n",
    "\n",
    "print(len(enrollment_list))  # Print total number of enrollments created\n"
   ]
  },
  {
   "cell_type": "code",
   "execution_count": 92,
   "id": "60ff64c7",
   "metadata": {},
   "outputs": [
    {
     "data": {
      "text/plain": [
       "15"
      ]
     },
     "execution_count": 92,
     "metadata": {},
     "output_type": "execute_result"
    }
   ],
   "source": [
    "# Insert all enrollment documents into the 'enrollment' collection\n",
    "insert_many(enrollment, enrollment_list)\n"
   ]
  },
  {
   "cell_type": "markdown",
   "id": "ec3d4411",
   "metadata": {},
   "source": [
    "Part 3: Basic CRUD Operations "
   ]
  },
  {
   "cell_type": "markdown",
   "id": "7566bd7a",
   "metadata": {},
   "source": [
    "Task 3.1: Create Operations"
   ]
  },
  {
   "cell_type": "markdown",
   "id": "c73149f9",
   "metadata": {},
   "source": [
    "3.1.1 - Insert a new User"
   ]
  },
  {
   "cell_type": "code",
   "execution_count": 93,
   "id": "5421df49",
   "metadata": {},
   "outputs": [],
   "source": [
    "#Create a new single user document to be added to the collection\n",
    "new_user = {\n",
    "    \"_id\": ObjectId(),\n",
    "    \"user_id\": \"user_21\",\n",
    "    \"first_name\": \"Tosin\",\n",
    "    \"last_name\": \"Adebayo\",\n",
    "    \"email\": \"tosin.adebayo@eduhub.com\",\n",
    "    \"role\": \"student\",  \n",
    "    \"date_joined\": datetime(2023, 5, 20),\n",
    "    \"profile\": {\n",
    "        \"bio\": \"I am Tosin, based in London with interest in databases and data analysis.\",\n",
    "        \"avatar\": \"curious_owl\",\n",
    "        \"skills\": [\"python\", \"mongodb\", \"data modeling\", \"etl\"]\n",
    "    },\n",
    "    \"is_active\": True\n",
    "}\n",
    "\n",
    "\n"
   ]
  },
  {
   "cell_type": "code",
   "execution_count": 94,
   "id": "11d7fdd5",
   "metadata": {},
   "outputs": [
    {
     "name": "stdout",
     "output_type": "stream",
     "text": [
      "error inserting: E11000 duplicate key error collection: eduhub_db.users index: email_1 dup key: { email: \"tosin.adebayo@eduhub.com\" }, full error: {'index': 0, 'code': 11000, 'errmsg': 'E11000 duplicate key error collection: eduhub_db.users index: email_1 dup key: { email: \"tosin.adebayo@eduhub.com\" }', 'keyPattern': {'email': 1}, 'keyValue': {'email': 'tosin.adebayo@eduhub.com'}}\n"
     ]
    }
   ],
   "source": [
    "#Insert new user into user collection\n",
    "insert_one(users, new_user)"
   ]
  },
  {
   "cell_type": "markdown",
   "id": "cd42dd0e",
   "metadata": {},
   "source": [
    "3.1.2 - Create a new course\n"
   ]
  },
  {
   "cell_type": "code",
   "execution_count": 95,
   "id": "08dc94f4",
   "metadata": {},
   "outputs": [],
   "source": [
    "# Create a new single course document to be added to the collection\n",
    "instructor = random.choice(instructors)\n",
    "rating = round(random.uniform(3.0, 5.0), 1)\n",
    "\n",
    "new_course = {\n",
    "    \"_id\": ObjectId(),\n",
    "    \"course_id\": \"course_9\",\n",
    "    \"title\": \"Data Visualization Fundamentals\",\n",
    "    \"description\": \"Introduction to data visualization tools and principles using Python and modern libraries.\",\n",
    "    \"instructorId\": instructor[\"user_id\"],\n",
    "    \"category\": \"data\",\n",
    "    \"level\": \"beginner\",\n",
    "    \"duration\": 8,\n",
    "    \"price\": 49,\n",
    "    \"tag\": [\"python\", \"data\", \"visualization\"],\n",
    "    \"rating\": rating,\n",
    "    \"createdAt\": datetime.now(),\n",
    "    \"updatedAt\": datetime.now(),\n",
    "    \"isPublished\": True\n",
    "}\n"
   ]
  },
  {
   "cell_type": "code",
   "execution_count": 96,
   "id": "1108d536",
   "metadata": {},
   "outputs": [
    {
     "data": {
      "text/plain": [
       "ObjectId('68e2e45bc3defe6ef2930359')"
      ]
     },
     "execution_count": 96,
     "metadata": {},
     "output_type": "execute_result"
    }
   ],
   "source": [
    "#Insert new course document into course collection\n",
    "insert_one(courses, new_course)"
   ]
  },
  {
   "cell_type": "markdown",
   "id": "dd5b8aed",
   "metadata": {},
   "source": [
    "3.1.3 - Enroll a new student"
   ]
  },
  {
   "cell_type": "code",
   "execution_count": 97,
   "id": "bb2b7459",
   "metadata": {},
   "outputs": [],
   "source": [
    "#Create a new single enrollment document to be added to the collection\n",
    "new_enrollment = {\n",
    "    \"_id\": ObjectId(),\n",
    "    \"enrollment_id\": \"enrollment_16\",   \n",
    "    \"course_id\": random.choice(course_list)[\"course_id\"], \n",
    "    \"student_id\": \"student_16\",        \n",
    "    \"enrollment_date\": datetime(2024, 10, 30) - timedelta(days=random.randint(1, 30)),\n",
    "    \"is_active\": True\n",
    "}"
   ]
  },
  {
   "cell_type": "code",
   "execution_count": 98,
   "id": "268f4397",
   "metadata": {},
   "outputs": [
    {
     "data": {
      "text/plain": [
       "ObjectId('68e2e45bc3defe6ef293035a')"
      ]
     },
     "execution_count": 98,
     "metadata": {},
     "output_type": "execute_result"
    }
   ],
   "source": [
    "#Insert a new enrollment document into enrollment collection\n",
    "insert_one(enrollment, new_enrollment)"
   ]
  },
  {
   "cell_type": "markdown",
   "id": "76880d7c",
   "metadata": {},
   "source": [
    "3.1.4 - Add a new lesson to an existing course"
   ]
  },
  {
   "cell_type": "code",
   "execution_count": 99,
   "id": "bf0e5ef1",
   "metadata": {},
   "outputs": [],
   "source": [
    "#Add a new lesson to an existing course\n",
    "new_lesson = {\n",
    "    \"_id\": ObjectId(),\n",
    "    \"lesson_id\": f\"lesson_{len(lesson_list)+1}\",\n",
    "    \"course_id\": course[\"course_id\"],         \n",
    "    \"instructor_id\": course[\"instructorId\"],\n",
    "    \"title\": f\"Exploring {course['title']} - {topic}\",\n",
    "    \"topic\": topic,\n",
    "    \"resources_url\": \"https://contentname@eduhub.com\",   \n",
    "    \"description\": f\"This lesson covers {topic} in {course['title']}\"\n",
    "}\n"
   ]
  },
  {
   "cell_type": "code",
   "execution_count": 100,
   "id": "c3819053",
   "metadata": {},
   "outputs": [
    {
     "data": {
      "text/plain": [
       "ObjectId('68e2e45bc3defe6ef293035b')"
      ]
     },
     "execution_count": 100,
     "metadata": {},
     "output_type": "execute_result"
    }
   ],
   "source": [
    "#Insert a new lesson document into lesson collection\n",
    "insert_one(lesson, new_lesson)"
   ]
  },
  {
   "cell_type": "markdown",
   "id": "906a8c28",
   "metadata": {},
   "source": [
    "Task 3.2: Read Operations"
   ]
  },
  {
   "cell_type": "markdown",
   "id": "38e68665",
   "metadata": {},
   "source": [
    "3.2.1 - Find all active students"
   ]
  },
  {
   "cell_type": "code",
   "execution_count": 101,
   "id": "97926e61",
   "metadata": {},
   "outputs": [
    {
     "name": "stdout",
     "output_type": "stream",
     "text": [
      "{'_id': ObjectId('68e28c3743a8ff36f4d1e6cd'), 'user_id': 'user_4', 'first_name': 'Olu', 'last_name': 'Ogbonna', 'email': 'olu.ogbonna@eduhub.com', 'role': 'student', 'date_joined': datetime.datetime(2025, 10, 5, 16, 18, 15, 675000), 'profile': {'bio': 'I am Olu, based in Harmonfurt with interest in iot and data processing', 'avatar': 'brutal_tenancious', 'skills': ['data loading', 'data processing', 'data analysis', 'data visualization']}, 'is_active': True}\n",
      "{'_id': ObjectId('68e28c3743a8ff36f4d1e6ce'), 'user_id': 'user_5', 'first_name': 'Yusuf', 'last_name': 'Aliyu', 'email': 'yusuf.aliyu@eduhub.com', 'role': 'student', 'date_joined': datetime.datetime(2025, 10, 5, 16, 18, 15, 675000), 'profile': {'bio': 'I am Yusuf, based in Ashleymouth with interest in coding and data visualization', 'avatar': 'stay_wicked', 'skills': ['data loading', 'data mining', 'data transformation', 'sales']}, 'is_active': True}\n",
      "{'_id': ObjectId('68e28c3743a8ff36f4d1e6d1'), 'user_id': 'user_8', 'first_name': 'Obinna', 'last_name': 'Mohammed', 'email': 'obinna.mohammed@eduhub.com', 'role': 'student', 'date_joined': datetime.datetime(2025, 10, 5, 16, 18, 15, 676000), 'profile': {'bio': 'I am Obinna, based in North Craigborough with interest in data processing and data engineering', 'avatar': 'blessed_assurance', 'skills': ['finance', 'ui/ux design', 'data visualization', 'data transformation']}, 'is_active': True}\n",
      "{'_id': ObjectId('68e28c3743a8ff36f4d1e6d2'), 'user_id': 'user_9', 'first_name': 'Amina', 'last_name': 'Adewale', 'email': 'amina.adewale@eduhub.com', 'role': 'student', 'date_joined': datetime.datetime(2025, 10, 5, 16, 18, 15, 676000), 'profile': {'bio': 'I am Amina, based in South Hunter with interest in data transformation and data modeling', 'avatar': 'stay_wicked', 'skills': ['data transformation', 'sales', 'data analysis', 'data analysis']}, 'is_active': True}\n",
      "{'_id': ObjectId('68e28c3743a8ff36f4d1e6d3'), 'user_id': 'user_10', 'first_name': 'Okonkwo', 'last_name': 'Okeke', 'email': 'okonkwo.okeke@eduhub.com', 'role': 'student', 'date_joined': datetime.datetime(2025, 10, 5, 16, 18, 15, 676000), 'profile': {'bio': 'I am Okonkwo, based in New Matthew with interest in data transformation and data modeling', 'avatar': 'warmly_endurance', 'skills': ['sales', 'data modeling', 'data cleaning', 'designing']}, 'is_active': True}\n",
      "{'_id': ObjectId('68e28c3743a8ff36f4d1e6d4'), 'user_id': 'user_11', 'first_name': 'Tunde', 'last_name': 'Adeleke', 'email': 'tunde.adeleke@eduhub.com', 'role': 'student', 'date_joined': datetime.datetime(2025, 10, 5, 16, 18, 15, 676000), 'profile': {'bio': 'I am Tunde, based in Tarabury with interest in hr and devops', 'avatar': 'blessed_assurance', 'skills': ['data visualization', 'data integration', 'data storage', 'data warehousing']}, 'is_active': True}\n",
      "{'_id': ObjectId('68e28c3743a8ff36f4d1e6d5'), 'user_id': 'user_12', 'first_name': 'Abdul', 'last_name': 'Bello', 'email': 'abdul.bello@eduhub.com', 'role': 'student', 'date_joined': datetime.datetime(2025, 10, 5, 16, 18, 15, 676000), 'profile': {'bio': 'I am Abdul, based in Port Jennifer with interest in data retrieval and it', 'avatar': 'blessed_assurance', 'skills': ['data mining', 'data warehousing', 'security', 'data retrieval']}, 'is_active': True}\n",
      "{'_id': ObjectId('68e28c3743a8ff36f4d1e6d6'), 'user_id': 'user_13', 'first_name': 'Blessing', 'last_name': 'Yusuf', 'email': 'blessing.yusuf@eduhub.com', 'role': 'student', 'date_joined': datetime.datetime(2025, 10, 5, 16, 18, 15, 676000), 'profile': {'bio': 'I am Blessing, based in Karafort with interest in data warehousing and database', 'avatar': 'warmly_endurance', 'skills': ['data mining', 'data integration', 'data cleaning', 'management']}, 'is_active': True}\n",
      "{'_id': ObjectId('68e28c3743a8ff36f4d1e6d7'), 'user_id': 'user_14', 'first_name': 'Ibrahim', 'last_name': 'Alade', 'email': 'ibrahim.alade@eduhub.com', 'role': 'student', 'date_joined': datetime.datetime(2025, 10, 5, 16, 18, 15, 676000), 'profile': {'bio': 'I am Ibrahim, based in Chavezburgh with interest in reading and reading', 'avatar': 'stay_wicked', 'skills': ['data storage', 'data modeling', 'data loading', 'data loading']}, 'is_active': True}\n",
      "{'_id': ObjectId('68e28c3743a8ff36f4d1e6d9'), 'user_id': 'user_16', 'first_name': 'Kemi', 'last_name': 'Eze', 'email': 'kemi.eze@eduhub.com', 'role': 'student', 'date_joined': datetime.datetime(2025, 10, 5, 16, 18, 15, 676000), 'profile': {'bio': 'I am Kemi, based in Lake Sharon with interest in data visualization and writing', 'avatar': 'brutal_tenancious', 'skills': ['blockchain', 'big data', 'data science', 'finance']}, 'is_active': True}\n",
      "{'_id': ObjectId('68e28c6943a8ff36f4d1e6de'), 'user_id': 'user_21', 'first_name': 'Tosin', 'last_name': 'Adebayo', 'email': 'tosin.adebayo@eduhub.com', 'role': 'student', 'date_joined': datetime.datetime(2023, 5, 20, 0, 0), 'profile': {'bio': 'I am Tosin, based in London with interest in databases and data analysis.', 'avatar': 'curious_owl', 'skills': ['python', 'mongodb', 'data modeling', 'etl']}, 'is_active': True}\n",
      "{'_id': ObjectId('68e2d95cd9abc9eb13d086b0'), 'user_id': 'user_1', 'first_name': 'Chika', 'last_name': 'Okonkwo', 'email': 'chika.okonkwo@eduhub.com', 'role': 'student', 'date_joined': datetime.datetime(2025, 10, 5, 21, 47, 24, 899000), 'profile': {'bio': 'I am Chika, based in Lake Kennethtown with interest in reading and data cleaning', 'avatar': 'warmly_endurance', 'skills': ['cybersecurity', 'data storage', 'ui/ux design', 'data loading']}, 'is_active': True}\n",
      "{'_id': ObjectId('68e2d95cd9abc9eb13d086b3'), 'user_id': 'user_4', 'first_name': 'Ifeoma', 'last_name': 'Ogbonna', 'email': 'ifeoma.ogbonna@eduhub.com', 'role': 'student', 'date_joined': datetime.datetime(2025, 10, 5, 21, 47, 24, 899000), 'profile': {'bio': 'I am Ifeoma, based in Alexanderside with interest in data cleaning and data modeling', 'avatar': 'blessed_assurance', 'skills': ['data warehousing', 'iot', 'data engineering', 'devops']}, 'is_active': True}\n",
      "{'_id': ObjectId('68e2d95cd9abc9eb13d086b5'), 'user_id': 'user_6', 'first_name': 'Segun', 'last_name': 'Yusuf', 'email': 'segun.yusuf@eduhub.com', 'role': 'student', 'date_joined': datetime.datetime(2025, 10, 5, 21, 47, 24, 899000), 'profile': {'bio': 'I am Segun, based in Ramirezberg with interest in finance and management', 'avatar': 'blessed_assurance', 'skills': ['data mining', 'hr', 'cybersecurity', 'mobile']}, 'is_active': True}\n",
      "{'_id': ObjectId('68e2d95cd9abc9eb13d086b6'), 'user_id': 'user_7', 'first_name': 'Temitope', 'last_name': 'Okonkwo', 'email': 'temitope.okonkwo@eduhub.com', 'role': 'student', 'date_joined': datetime.datetime(2025, 10, 5, 21, 47, 24, 899000), 'profile': {'bio': 'I am Temitope, based in Patriciaborough with interest in data mining and data cleaning', 'avatar': 'warmly_endurance', 'skills': ['data visualization', 'security', 'cybersecurity', 'mobile']}, 'is_active': True}\n",
      "{'_id': ObjectId('68e2d95cd9abc9eb13d086b8'), 'user_id': 'user_9', 'first_name': 'Mohammed', 'last_name': 'Adewale', 'email': 'mohammed.adewale@eduhub.com', 'role': 'student', 'date_joined': datetime.datetime(2025, 10, 5, 21, 47, 24, 899000), 'profile': {'bio': 'I am Mohammed, based in Shawnland with interest in cybersecurity and cloud', 'avatar': 'blessed_assurance', 'skills': ['ui/ux design', 'coding', 'it', 'data engineering']}, 'is_active': True}\n",
      "{'_id': ObjectId('68e2d95cd9abc9eb13d086b9'), 'user_id': 'user_10', 'first_name': 'Sani', 'last_name': 'Onyema', 'email': 'sani.onyema@eduhub.com', 'role': 'student', 'date_joined': datetime.datetime(2025, 10, 5, 21, 47, 24, 900000), 'profile': {'bio': 'I am Sani, based in North Robert with interest in data storage and data science', 'avatar': 'stay_wicked', 'skills': ['data integration', 'writing', 'data retrieval', 'finance']}, 'is_active': True}\n",
      "{'_id': ObjectId('68e2d95cd9abc9eb13d086ba'), 'user_id': 'user_11', 'first_name': 'Amara', 'last_name': 'Balogun', 'email': 'amara.balogun@eduhub.com', 'role': 'student', 'date_joined': datetime.datetime(2025, 10, 5, 21, 47, 24, 900000), 'profile': {'bio': 'I am Amara, based in Josephborough with interest in data mining and cybersecurity', 'avatar': 'blessed_assurance', 'skills': ['big data', 'data integration', 'database', 'data mining']}, 'is_active': True}\n",
      "{'_id': ObjectId('68e2d95cd9abc9eb13d086bb'), 'user_id': 'user_12', 'first_name': 'Kemi', 'last_name': 'Uche', 'email': 'kemi.uche@eduhub.com', 'role': 'student', 'date_joined': datetime.datetime(2025, 10, 5, 21, 47, 24, 900000), 'profile': {'bio': 'I am Kemi, based in Millerview with interest in data transformation and data cleaning', 'avatar': 'warmly_endurance', 'skills': ['writing', 'data transformation', 'blockchain', 'coding']}, 'is_active': True}\n",
      "{'_id': ObjectId('68e2d95cd9abc9eb13d086bd'), 'user_id': 'user_14', 'first_name': 'Kemi', 'last_name': 'Bello', 'email': 'kemi.bello@eduhub.com', 'role': 'student', 'date_joined': datetime.datetime(2025, 10, 5, 21, 47, 24, 900000), 'profile': {'bio': 'I am Kemi, based in Parkermouth with interest in data visualization and data integration', 'avatar': 'stay_wicked', 'skills': ['data storage', 'data mining', 'data processing', 'data loading']}, 'is_active': True}\n",
      "{'_id': ObjectId('68e2d95cd9abc9eb13d086be'), 'user_id': 'user_15', 'first_name': 'Eze', 'last_name': 'Onyia', 'email': 'eze.onyia@eduhub.com', 'role': 'student', 'date_joined': datetime.datetime(2025, 10, 5, 21, 47, 24, 900000), 'profile': {'bio': 'I am Eze, based in Lake Kimberly with interest in data loading and sales', 'avatar': 'brutal_tenancious', 'skills': ['data storage', 'data analysis', 'database', 'data loading']}, 'is_active': True}\n",
      "{'_id': ObjectId('68e2dc56c3defe6ef29302d3'), 'user_id': 'user_1', 'first_name': 'Zara', 'last_name': 'Okeke', 'email': 'zara.okeke@eduhub.com', 'role': 'student', 'date_joined': datetime.datetime(2025, 10, 5, 22, 0, 6, 898000), 'profile': {'bio': 'I am Zara, based in North Emilyberg with interest in cloud and sales', 'avatar': 'blessed_assurance', 'skills': ['data integration', 'reading', 'data engineering', 'ui/ux design']}, 'is_active': True}\n",
      "{'_id': ObjectId('68e2dc56c3defe6ef29302d6'), 'user_id': 'user_4', 'first_name': 'Adanna', 'last_name': 'Bakare', 'email': 'adanna.bakare@eduhub.com', 'role': 'student', 'date_joined': datetime.datetime(2025, 10, 5, 22, 0, 6, 898000), 'profile': {'bio': 'I am Adanna, based in South Karenport with interest in data analysis and hr', 'avatar': 'warmly_endurance', 'skills': ['data retrieval', 'data integration', 'it', 'networking']}, 'is_active': True}\n",
      "{'_id': ObjectId('68e2dc56c3defe6ef29302d7'), 'user_id': 'user_5', 'first_name': 'Okonkwo', 'last_name': 'Akintola', 'email': 'okonkwo.akintola@eduhub.com', 'role': 'student', 'date_joined': datetime.datetime(2025, 10, 5, 22, 0, 6, 898000), 'profile': {'bio': 'I am Okonkwo, based in West Sarah with interest in ui/ux design and data warehousing', 'avatar': 'stay_wicked', 'skills': ['data modeling', 'data science', 'sales', 'data cleaning']}, 'is_active': True}\n"
     ]
    }
   ],
   "source": [
    "# Find and display all active users with the role 'student'\n",
    "query = {\"role\": \"student\", \"is_active\": True}\n",
    "result = find_many_documents(users, query)\n",
    "\n",
    "for doc in result:\n",
    "    print(doc)\n"
   ]
  },
  {
   "cell_type": "markdown",
   "id": "96527278",
   "metadata": {},
   "source": [
    "3.2.2 - Retrieve course details with instructor information"
   ]
  },
  {
   "cell_type": "code",
   "execution_count": 102,
   "id": "28eba8d2",
   "metadata": {},
   "outputs": [
    {
     "name": "stdout",
     "output_type": "stream",
     "text": [
      "{'course_id': 'course_1', 'title': 'Intro to Databases', 'category': 'cs', 'level': 'advanced', 'price': 49, 'instructor_info': {'first_name': 'Jide', 'last_name': 'Balogun', 'email': 'jide.balogun@eduhub.com'}}\n",
      "{'course_id': 'course_1', 'title': 'Intro to Databases', 'category': 'cs', 'level': 'advanced', 'price': 49, 'instructor_info': {'first_name': 'Segun', 'last_name': 'Adewale', 'email': 'segun.adewale@eduhub.com'}}\n",
      "{'course_id': 'course_2', 'title': 'Aggregation Piplines', 'category': 'math', 'level': 'intermediate', 'price': 29, 'instructor_info': {'first_name': 'Chidinma', 'last_name': 'Mohammed', 'email': 'chidinma.mohammed@eduhub.com'}}\n",
      "{'course_id': 'course_2', 'title': 'Aggregation Piplines', 'category': 'math', 'level': 'intermediate', 'price': 29, 'instructor_info': {'first_name': 'Kunle', 'last_name': 'Chukwu', 'email': 'kunle.chukwu@eduhub.com'}}\n",
      "{'course_id': 'course_3', 'title': 'Python for Data', 'category': 'math', 'level': 'beginner', 'price': 49, 'instructor_info': {'first_name': 'Amina', 'last_name': 'Okafor', 'email': 'amina.okafor@eduhub.com'}}\n",
      "{'course_id': 'course_3', 'title': 'Python for Data', 'category': 'math', 'level': 'beginner', 'price': 49, 'instructor_info': {'first_name': 'Ade', 'last_name': 'Okoh', 'email': 'ade.okoh@eduhub.com'}}\n",
      "{'course_id': 'course_4', 'title': 'Discrete Math', 'category': 'math', 'level': 'intermediate', 'price': 0, 'instructor_info': {'first_name': 'Jide', 'last_name': 'Balogun', 'email': 'jide.balogun@eduhub.com'}}\n",
      "{'course_id': 'course_4', 'title': 'Discrete Math', 'category': 'math', 'level': 'intermediate', 'price': 0, 'instructor_info': {'first_name': 'Segun', 'last_name': 'Adewale', 'email': 'segun.adewale@eduhub.com'}}\n",
      "{'course_id': 'course_5', 'title': 'NoSql', 'category': 'cs', 'level': 'intermediate', 'price': 79, 'instructor_info': {'first_name': 'Amina', 'last_name': 'Okafor', 'email': 'amina.okafor@eduhub.com'}}\n",
      "{'course_id': 'course_5', 'title': 'NoSql', 'category': 'cs', 'level': 'intermediate', 'price': 79, 'instructor_info': {'first_name': 'Ade', 'last_name': 'Okoh', 'email': 'ade.okoh@eduhub.com'}}\n",
      "{'course_id': 'course_6', 'title': 'Algorithm 101', 'category': 'math', 'level': 'beginner', 'price': 0, 'instructor_info': {'first_name': 'Amina', 'last_name': 'Okafor', 'email': 'amina.okafor@eduhub.com'}}\n",
      "{'course_id': 'course_6', 'title': 'Algorithm 101', 'category': 'math', 'level': 'beginner', 'price': 0, 'instructor_info': {'first_name': 'Ade', 'last_name': 'Okoh', 'email': 'ade.okoh@eduhub.com'}}\n",
      "{'course_id': 'course_7', 'title': 'Devops Basics', 'category': 'math', 'level': 'intermediate', 'price': 0, 'instructor_info': {'first_name': 'Chidinma', 'last_name': 'Mohammed', 'email': 'chidinma.mohammed@eduhub.com'}}\n",
      "{'course_id': 'course_7', 'title': 'Devops Basics', 'category': 'math', 'level': 'intermediate', 'price': 0, 'instructor_info': {'first_name': 'Kunle', 'last_name': 'Chukwu', 'email': 'kunle.chukwu@eduhub.com'}}\n",
      "{'course_id': 'course_8', 'title': 'Cloud Fundamentals', 'category': 'cs', 'level': 'beginner', 'price': 49, 'instructor_info': {'first_name': 'Chioma', 'last_name': 'Obi', 'email': 'chioma.obi@eduhub.com'}}\n",
      "{'course_id': 'course_8', 'title': 'Cloud Fundamentals', 'category': 'cs', 'level': 'beginner', 'price': 49, 'instructor_info': {'first_name': 'Deborah', 'last_name': 'Mustapha', 'email': 'deborah.mustapha@eduhub.com'}}\n",
      "{'course_id': 'course_9', 'title': 'Data Visualization Fundamentals', 'category': 'data', 'level': 'beginner', 'price': 49, 'instructor_info': {'first_name': 'Jide', 'last_name': 'Balogun', 'email': 'jide.balogun@eduhub.com'}}\n",
      "{'course_id': 'course_9', 'title': 'Data Visualization Fundamentals', 'category': 'data', 'level': 'beginner', 'price': 49, 'instructor_info': {'first_name': 'Segun', 'last_name': 'Adewale', 'email': 'segun.adewale@eduhub.com'}}\n",
      "{'course_id': 'course_1', 'title': 'Intro to Databases', 'category': 'math', 'level': 'advanced', 'price': 29, 'instructor_info': {'first_name': 'Chidinma', 'last_name': 'Mohammed', 'email': 'chidinma.mohammed@eduhub.com'}}\n",
      "{'course_id': 'course_1', 'title': 'Intro to Databases', 'category': 'math', 'level': 'advanced', 'price': 29, 'instructor_info': {'first_name': 'Kunle', 'last_name': 'Chukwu', 'email': 'kunle.chukwu@eduhub.com'}}\n",
      "{'course_id': 'course_2', 'title': 'Aggregation Piplines', 'category': 'data', 'level': 'advanced', 'price': 29, 'instructor_info': {'first_name': 'Chioma', 'last_name': 'Obi', 'email': 'chioma.obi@eduhub.com'}}\n",
      "{'course_id': 'course_2', 'title': 'Aggregation Piplines', 'category': 'data', 'level': 'advanced', 'price': 29, 'instructor_info': {'first_name': 'Deborah', 'last_name': 'Mustapha', 'email': 'deborah.mustapha@eduhub.com'}}\n",
      "{'course_id': 'course_3', 'title': 'Python for Data', 'category': 'data', 'level': 'intermediate', 'price': 49, 'instructor_info': {'first_name': 'Chioma', 'last_name': 'Obi', 'email': 'chioma.obi@eduhub.com'}}\n",
      "{'course_id': 'course_3', 'title': 'Python for Data', 'category': 'data', 'level': 'intermediate', 'price': 49, 'instructor_info': {'first_name': 'Deborah', 'last_name': 'Mustapha', 'email': 'deborah.mustapha@eduhub.com'}}\n",
      "{'course_id': 'course_4', 'title': 'Discrete Math', 'category': 'math', 'level': 'beginner', 'price': 79, 'instructor_info': {'first_name': 'Jide', 'last_name': 'Balogun', 'email': 'jide.balogun@eduhub.com'}}\n",
      "{'course_id': 'course_4', 'title': 'Discrete Math', 'category': 'math', 'level': 'beginner', 'price': 79, 'instructor_info': {'first_name': 'Segun', 'last_name': 'Adewale', 'email': 'segun.adewale@eduhub.com'}}\n",
      "{'course_id': 'course_5', 'title': 'NoSql', 'category': 'cs', 'level': 'intermediate', 'price': 0, 'instructor_info': {'first_name': 'Chioma', 'last_name': 'Obi', 'email': 'chioma.obi@eduhub.com'}}\n",
      "{'course_id': 'course_5', 'title': 'NoSql', 'category': 'cs', 'level': 'intermediate', 'price': 0, 'instructor_info': {'first_name': 'Deborah', 'last_name': 'Mustapha', 'email': 'deborah.mustapha@eduhub.com'}}\n",
      "{'course_id': 'course_6', 'title': 'Algorithm 101', 'category': 'cs', 'level': 'intermediate', 'price': 29, 'instructor_info': {'first_name': 'Amina', 'last_name': 'Okafor', 'email': 'amina.okafor@eduhub.com'}}\n",
      "{'course_id': 'course_6', 'title': 'Algorithm 101', 'category': 'cs', 'level': 'intermediate', 'price': 29, 'instructor_info': {'first_name': 'Ade', 'last_name': 'Okoh', 'email': 'ade.okoh@eduhub.com'}}\n",
      "{'course_id': 'course_7', 'title': 'Devops Basics', 'category': 'cloud', 'level': 'beginner', 'price': 0, 'instructor_info': {'first_name': 'Chioma', 'last_name': 'Obi', 'email': 'chioma.obi@eduhub.com'}}\n",
      "{'course_id': 'course_7', 'title': 'Devops Basics', 'category': 'cloud', 'level': 'beginner', 'price': 0, 'instructor_info': {'first_name': 'Deborah', 'last_name': 'Mustapha', 'email': 'deborah.mustapha@eduhub.com'}}\n",
      "{'course_id': 'course_8', 'title': 'Cloud Fundamentals', 'category': 'math', 'level': 'intermediate', 'price': 79, 'instructor_info': {'first_name': 'Chidinma', 'last_name': 'Mohammed', 'email': 'chidinma.mohammed@eduhub.com'}}\n",
      "{'course_id': 'course_8', 'title': 'Cloud Fundamentals', 'category': 'math', 'level': 'intermediate', 'price': 79, 'instructor_info': {'first_name': 'Kunle', 'last_name': 'Chukwu', 'email': 'kunle.chukwu@eduhub.com'}}\n",
      "{'course_id': 'course_1', 'title': 'Intro to Databases', 'category': 'cs', 'level': 'beginner', 'price': 29, 'instructor_info': {'first_name': 'Chioma', 'last_name': 'Obi', 'email': 'chioma.obi@eduhub.com'}}\n",
      "{'course_id': 'course_1', 'title': 'Intro to Databases', 'category': 'cs', 'level': 'beginner', 'price': 29, 'instructor_info': {'first_name': 'Deborah', 'last_name': 'Mustapha', 'email': 'deborah.mustapha@eduhub.com'}}\n",
      "{'course_id': 'course_2', 'title': 'Aggregation Piplines', 'category': 'math', 'level': 'intermediate', 'price': 0, 'instructor_info': {'first_name': 'Chioma', 'last_name': 'Obi', 'email': 'chioma.obi@eduhub.com'}}\n",
      "{'course_id': 'course_2', 'title': 'Aggregation Piplines', 'category': 'math', 'level': 'intermediate', 'price': 0, 'instructor_info': {'first_name': 'Deborah', 'last_name': 'Mustapha', 'email': 'deborah.mustapha@eduhub.com'}}\n",
      "{'course_id': 'course_3', 'title': 'Python for Data', 'category': 'math', 'level': 'advanced', 'price': 49, 'instructor_info': {'first_name': 'Jide', 'last_name': 'Balogun', 'email': 'jide.balogun@eduhub.com'}}\n",
      "{'course_id': 'course_3', 'title': 'Python for Data', 'category': 'math', 'level': 'advanced', 'price': 49, 'instructor_info': {'first_name': 'Segun', 'last_name': 'Adewale', 'email': 'segun.adewale@eduhub.com'}}\n",
      "{'course_id': 'course_4', 'title': 'Discrete Math', 'category': 'math', 'level': 'intermediate', 'price': 79, 'instructor_info': {'first_name': 'Jide', 'last_name': 'Balogun', 'email': 'jide.balogun@eduhub.com'}}\n",
      "{'course_id': 'course_4', 'title': 'Discrete Math', 'category': 'math', 'level': 'intermediate', 'price': 79, 'instructor_info': {'first_name': 'Segun', 'last_name': 'Adewale', 'email': 'segun.adewale@eduhub.com'}}\n",
      "{'course_id': 'course_5', 'title': 'NoSql', 'category': 'data', 'level': 'beginner', 'price': 49, 'instructor_info': {'first_name': 'Chidinma', 'last_name': 'Mohammed', 'email': 'chidinma.mohammed@eduhub.com'}}\n",
      "{'course_id': 'course_5', 'title': 'NoSql', 'category': 'data', 'level': 'beginner', 'price': 49, 'instructor_info': {'first_name': 'Kunle', 'last_name': 'Chukwu', 'email': 'kunle.chukwu@eduhub.com'}}\n",
      "{'course_id': 'course_6', 'title': 'Algorithm 101', 'category': 'math', 'level': 'intermediate', 'price': 0, 'instructor_info': {'first_name': 'Chioma', 'last_name': 'Obi', 'email': 'chioma.obi@eduhub.com'}}\n",
      "{'course_id': 'course_6', 'title': 'Algorithm 101', 'category': 'math', 'level': 'intermediate', 'price': 0, 'instructor_info': {'first_name': 'Deborah', 'last_name': 'Mustapha', 'email': 'deborah.mustapha@eduhub.com'}}\n",
      "{'course_id': 'course_7', 'title': 'Devops Basics', 'category': 'math', 'level': 'intermediate', 'price': 0, 'instructor_info': {'first_name': 'Chioma', 'last_name': 'Obi', 'email': 'chioma.obi@eduhub.com'}}\n",
      "{'course_id': 'course_7', 'title': 'Devops Basics', 'category': 'math', 'level': 'intermediate', 'price': 0, 'instructor_info': {'first_name': 'Deborah', 'last_name': 'Mustapha', 'email': 'deborah.mustapha@eduhub.com'}}\n",
      "{'course_id': 'course_8', 'title': 'Cloud Fundamentals', 'category': 'math', 'level': 'advanced', 'price': 0, 'instructor_info': {'first_name': 'Amina', 'last_name': 'Okafor', 'email': 'amina.okafor@eduhub.com'}}\n",
      "{'course_id': 'course_8', 'title': 'Cloud Fundamentals', 'category': 'math', 'level': 'advanced', 'price': 0, 'instructor_info': {'first_name': 'Ade', 'last_name': 'Okoh', 'email': 'ade.okoh@eduhub.com'}}\n",
      "{'course_id': 'course_9', 'title': 'Data Visualization Fundamentals', 'category': 'data', 'level': 'beginner', 'price': 49, 'instructor_info': {'first_name': 'Amina', 'last_name': 'Okafor', 'email': 'amina.okafor@eduhub.com'}}\n",
      "{'course_id': 'course_9', 'title': 'Data Visualization Fundamentals', 'category': 'data', 'level': 'beginner', 'price': 49, 'instructor_info': {'first_name': 'Ade', 'last_name': 'Okoh', 'email': 'ade.okoh@eduhub.com'}}\n",
      "{'course_id': 'course_9', 'title': 'Data Visualization Fundamentals', 'category': 'data', 'level': 'beginner', 'price': 49, 'instructor_info': {'first_name': 'Chioma', 'last_name': 'Obi', 'email': 'chioma.obi@eduhub.com'}}\n",
      "{'course_id': 'course_9', 'title': 'Data Visualization Fundamentals', 'category': 'data', 'level': 'beginner', 'price': 49, 'instructor_info': {'first_name': 'Deborah', 'last_name': 'Mustapha', 'email': 'deborah.mustapha@eduhub.com'}}\n"
     ]
    }
   ],
   "source": [
    "# Retrieve course details along with instructor information using aggregation\n",
    "pipeline = [\n",
    "    {\n",
    "        \"$lookup\": {                             # Join 'courses' with 'users' collection\n",
    "            \"from\": \"users\",\n",
    "            \"localField\": \"instructorId\",        # Field in 'courses' collection\n",
    "            \"foreignField\": \"user_id\",           # Matching field in 'users' collection\n",
    "            \"as\": \"instructor_info\"              # Output array field containing matched instructor details\n",
    "        }\n",
    "    },\n",
    "    {\"$unwind\": \"$instructor_info\"},             # Flatten the joined instructor info\n",
    "    {\n",
    "        \"$project\": {                            # Select specific fields to return\n",
    "            \"_id\": 0,\n",
    "            \"course_id\": 1,\n",
    "            \"title\": 1,\n",
    "            \"category\": 1,\n",
    "            \"level\": 1,\n",
    "            \"price\": 1,\n",
    "            \"instructor_info.first_name\": 1,\n",
    "            \"instructor_info.last_name\": 1,\n",
    "            \"instructor_info.email\": 1\n",
    "        }\n",
    "    }\n",
    "]\n",
    "\n",
    "# Execute the aggregation and print each course with instructor details\n",
    "results = list(courses.aggregate(pipeline))\n",
    "for course in results:\n",
    "    print(course)\n"
   ]
  },
  {
   "cell_type": "markdown",
   "id": "38ab98e5",
   "metadata": {},
   "source": [
    "3.2.3 - Get all courses in a specific category"
   ]
  },
  {
   "cell_type": "code",
   "execution_count": 103,
   "id": "eff7f0ba",
   "metadata": {},
   "outputs": [
    {
     "name": "stdout",
     "output_type": "stream",
     "text": [
      "{'_id': ObjectId('68e293e943a8ff36f4d1e700'), 'course_id': 'course_9', 'title': 'Data Visualization Fundamentals', 'description': 'Introduction to data visualization tools and principles using Python and modern libraries.', 'instructorId': 'user_20', 'category': 'data', 'level': 'beginner', 'duration': 8, 'price': 49, 'tag': ['python', 'data', 'visualization'], 'rating': 4.9, 'createdAt': datetime.datetime(2025, 10, 5, 16, 51, 5, 829000), 'updatedAt': datetime.datetime(2025, 10, 5, 16, 51, 5, 829000), 'isPublished': True}\n",
      "{'_id': ObjectId('68e2d95cd9abc9eb13d086c6'), 'course_id': 'course_2', 'title': 'Aggregation Piplines', 'description': 'introduction to Aggregation Piplines', 'instructorId': 'user_17', 'category': 'data', 'level': 'advanced', 'duration': 8, 'price': 29, 'tag': ['cloud', 'math', 'etl'], 'rating': 3.2, 'createdAt': datetime.datetime(2025, 10, 5, 21, 47, 24, 934000), 'updatedAt': datetime.datetime(2025, 10, 5, 21, 47, 24, 934000), 'isPublished': False}\n",
      "{'_id': ObjectId('68e2d95cd9abc9eb13d086c7'), 'course_id': 'course_3', 'title': 'Python for Data', 'description': 'introduction to Python for Data', 'instructorId': 'user_17', 'category': 'data', 'level': 'intermediate', 'duration': 8, 'price': 49, 'tag': ['math', 'devops', 'python'], 'rating': 4.4, 'createdAt': datetime.datetime(2025, 10, 5, 21, 47, 24, 934000), 'updatedAt': datetime.datetime(2025, 10, 5, 21, 47, 24, 934000), 'isPublished': True}\n",
      "{'_id': ObjectId('68e2dc56c3defe6ef29302ec'), 'course_id': 'course_5', 'title': 'NoSql', 'description': 'introduction to NoSql', 'instructorId': 'user_19', 'category': 'data', 'level': 'beginner', 'duration': 8, 'price': 49, 'tag': ['devops', 'python', 'etl'], 'rating': 3.5, 'createdAt': datetime.datetime(2025, 10, 5, 22, 0, 6, 942000), 'updatedAt': datetime.datetime(2025, 10, 5, 22, 0, 6, 942000), 'isPublished': True}\n",
      "{'_id': ObjectId('68e2dc57c3defe6ef2930337'), 'course_id': 'course_9', 'title': 'Data Visualization Fundamentals', 'description': 'Introduction to data visualization tools and principles using Python and modern libraries.', 'instructorId': 'user_18', 'category': 'data', 'level': 'beginner', 'duration': 8, 'price': 49, 'tag': ['python', 'data', 'visualization'], 'rating': 4.4, 'createdAt': datetime.datetime(2025, 10, 5, 22, 0, 7, 142000), 'updatedAt': datetime.datetime(2025, 10, 5, 22, 0, 7, 142000), 'isPublished': True}\n",
      "{'_id': ObjectId('68e2e45bc3defe6ef2930359'), 'course_id': 'course_9', 'title': 'Data Visualization Fundamentals', 'description': 'Introduction to data visualization tools and principles using Python and modern libraries.', 'instructorId': 'user_17', 'category': 'data', 'level': 'beginner', 'duration': 8, 'price': 49, 'tag': ['python', 'data', 'visualization'], 'rating': 3.8, 'createdAt': datetime.datetime(2025, 10, 5, 22, 34, 19, 223000), 'updatedAt': datetime.datetime(2025, 10, 5, 22, 34, 19, 223000), 'isPublished': True}\n"
     ]
    }
   ],
   "source": [
    "# Find and display all courses within the 'data' category\n",
    "query = {\"category\": \"data\"}\n",
    "result = find_many_documents(courses, query)\n",
    "\n",
    "for course in result:\n",
    "    print(course)\n"
   ]
  },
  {
   "cell_type": "markdown",
   "id": "5de40154",
   "metadata": {},
   "source": [
    "3.2.4 - Find students enrolled in a particular course"
   ]
  },
  {
   "cell_type": "code",
   "execution_count": 104,
   "id": "f565c5c2",
   "metadata": {},
   "outputs": [
    {
     "name": "stdout",
     "output_type": "stream",
     "text": [
      "12\n"
     ]
    },
    {
     "data": {
      "text/plain": [
       "[{'enrollment_id': 'enrollment_6',\n",
       "  'course_id': 'course_1',\n",
       "  'student_info': {'first_name': 'Grace',\n",
       "   'last_name': 'Bello',\n",
       "   'email': 'grace.bello@eduhub.com'}},\n",
       " {'enrollment_id': 'enrollment_6',\n",
       "  'course_id': 'course_1',\n",
       "  'student_info': {'first_name': 'Segun',\n",
       "   'last_name': 'Yusuf',\n",
       "   'email': 'segun.yusuf@eduhub.com'}},\n",
       " {'enrollment_id': 'enrollment_9',\n",
       "  'course_id': 'course_1',\n",
       "  'student_info': {'first_name': 'Amina',\n",
       "   'last_name': 'Adewale',\n",
       "   'email': 'amina.adewale@eduhub.com'}},\n",
       " {'enrollment_id': 'enrollment_9',\n",
       "  'course_id': 'course_1',\n",
       "  'student_info': {'first_name': 'Mohammed',\n",
       "   'last_name': 'Adewale',\n",
       "   'email': 'mohammed.adewale@eduhub.com'}},\n",
       " {'enrollment_id': 'enrollment_10',\n",
       "  'course_id': 'course_1',\n",
       "  'student_info': {'first_name': 'Okonkwo',\n",
       "   'last_name': 'Okeke',\n",
       "   'email': 'okonkwo.okeke@eduhub.com'}},\n",
       " {'enrollment_id': 'enrollment_10',\n",
       "  'course_id': 'course_1',\n",
       "  'student_info': {'first_name': 'Sani',\n",
       "   'last_name': 'Onyema',\n",
       "   'email': 'sani.onyema@eduhub.com'}},\n",
       " {'enrollment_id': 'enrollment_9',\n",
       "  'course_id': 'course_1',\n",
       "  'student_info': {'first_name': 'Amina',\n",
       "   'last_name': 'Adewale',\n",
       "   'email': 'amina.adewale@eduhub.com'}},\n",
       " {'enrollment_id': 'enrollment_9',\n",
       "  'course_id': 'course_1',\n",
       "  'student_info': {'first_name': 'Mohammed',\n",
       "   'last_name': 'Adewale',\n",
       "   'email': 'mohammed.adewale@eduhub.com'}},\n",
       " {'enrollment_id': 'enrollment_14',\n",
       "  'course_id': 'course_1',\n",
       "  'student_info': {'first_name': 'Ibrahim',\n",
       "   'last_name': 'Alade',\n",
       "   'email': 'ibrahim.alade@eduhub.com'}},\n",
       " {'enrollment_id': 'enrollment_14',\n",
       "  'course_id': 'course_1',\n",
       "  'student_info': {'first_name': 'Kemi',\n",
       "   'last_name': 'Bello',\n",
       "   'email': 'kemi.bello@eduhub.com'}},\n",
       " {'enrollment_id': 'enrollment_15',\n",
       "  'course_id': 'course_1',\n",
       "  'student_info': {'first_name': 'Fatima',\n",
       "   'last_name': 'Alade',\n",
       "   'email': 'fatima.alade@eduhub.com'}},\n",
       " {'enrollment_id': 'enrollment_15',\n",
       "  'course_id': 'course_1',\n",
       "  'student_info': {'first_name': 'Eze',\n",
       "   'last_name': 'Onyia',\n",
       "   'email': 'eze.onyia@eduhub.com'}}]"
      ]
     },
     "execution_count": 104,
     "metadata": {},
     "output_type": "execute_result"
    }
   ],
   "source": [
    "# Retrieve all students enrolled in a specific course\n",
    "course_id_to_find = \"course_1\"\n",
    "\n",
    "pipeline = [\n",
    "    {\"$match\": {\"course_id\": course_id_to_find}},  # Filter enrollments for the selected course\n",
    "    {\n",
    "        \"$lookup\": {                               # Join 'enrollment' with 'users' collection\n",
    "            \"from\": \"users\",\n",
    "            \"localField\": \"student_id\",            # Field in 'enrollment' collection\n",
    "            \"foreignField\": \"user_id\",             # Matching field in 'users' collection\n",
    "            \"as\": \"student_info\"                   # Output array with matched student details\n",
    "        }\n",
    "    },\n",
    "    {\"$unwind\": \"$student_info\"},                  # Flatten the joined student information\n",
    "    {\n",
    "        \"$project\": {                              # Select relevant fields to display\n",
    "            \"_id\": 0,\n",
    "            \"enrollment_id\": 1,\n",
    "            \"course_id\": 1,\n",
    "            \"student_info.first_name\": 1,\n",
    "            \"student_info.last_name\": 1,\n",
    "            \"student_info.email\": 1\n",
    "        }\n",
    "    }\n",
    "]\n",
    "\n",
    "# Run the aggregation pipeline on the 'enrollment' collection\n",
    "aggregate(enrollment, pipeline)\n"
   ]
  },
  {
   "cell_type": "markdown",
   "id": "73351dbb",
   "metadata": {},
   "source": [
    "3.2.5 - Search courses by title (case-insensitive, partial match)"
   ]
  },
  {
   "cell_type": "code",
   "execution_count": 105,
   "id": "4fb198bb",
   "metadata": {},
   "outputs": [
    {
     "data": {
      "text/plain": [
       "[{'_id': ObjectId('68e293c543a8ff36f4d1e6fc'),\n",
       "  'course_id': 'course_5',\n",
       "  'title': 'NoSql',\n",
       "  'category': 'cs',\n",
       "  'level': 'intermediate'},\n",
       " {'_id': ObjectId('68e2d95cd9abc9eb13d086c9'),\n",
       "  'course_id': 'course_5',\n",
       "  'title': 'NoSql',\n",
       "  'category': 'cs',\n",
       "  'level': 'intermediate'},\n",
       " {'_id': ObjectId('68e2dc56c3defe6ef29302ec'),\n",
       "  'course_id': 'course_5',\n",
       "  'title': 'NoSql',\n",
       "  'category': 'data',\n",
       "  'level': 'beginner'}]"
      ]
     },
     "execution_count": 105,
     "metadata": {},
     "output_type": "execute_result"
    }
   ],
   "source": [
    "# Find a course by its title and return selected fields only\n",
    "query = {\"title\": \"NoSql\"}\n",
    "\n",
    "projection = {\n",
    "    \"course_id\": 1,\n",
    "    \"title\": 1,\n",
    "    \"category\": 1,\n",
    "    \"level\": 1\n",
    "}\n",
    "\n",
    "# Retrieve matching course documents with the specified projection\n",
    "find_many_documents(courses, query, projection=projection)\n"
   ]
  },
  {
   "cell_type": "markdown",
   "id": "f3caf35f",
   "metadata": {},
   "source": [
    "Task 3.3: Update Operations"
   ]
  },
  {
   "cell_type": "markdown",
   "id": "9135dc7a",
   "metadata": {},
   "source": [
    "3.3.1 - Update a user’s profile information\n"
   ]
  },
  {
   "cell_type": "code",
   "execution_count": 106,
   "id": "ce91c59f",
   "metadata": {},
   "outputs": [
    {
     "data": {
      "text/plain": [
       "0"
      ]
     },
     "execution_count": 106,
     "metadata": {},
     "output_type": "execute_result"
    }
   ],
   "source": [
    "# Update the last name of a user whose first name is 'Halima'\n",
    "query = {\"first_name\": \"Halima\"}\n",
    "update = {\"$set\": {\"last_name\": \"Chinedu\"}}\n",
    "\n",
    "# Apply the update operation to the 'users' collection\n",
    "update_document(users, query, update)\n"
   ]
  },
  {
   "cell_type": "markdown",
   "id": "48256146",
   "metadata": {},
   "source": [
    "3.3.2 - Mark a course as published"
   ]
  },
  {
   "cell_type": "code",
   "execution_count": 107,
   "id": "5acc9a6f",
   "metadata": {},
   "outputs": [
    {
     "data": {
      "text/plain": [
       "0"
      ]
     },
     "execution_count": 107,
     "metadata": {},
     "output_type": "execute_result"
    }
   ],
   "source": [
    "# Publish a specific course by updating its 'isPublished' status\n",
    "query = {\"course_id\": \"course_2\"}\n",
    "update = {\"$set\": {\"isPublished\": True}}\n",
    "\n",
    "# Apply the update to the 'courses' collection\n",
    "update_document(courses, query, update)\n"
   ]
  },
  {
   "cell_type": "markdown",
   "id": "1bff3836",
   "metadata": {},
   "source": [
    "3.3.3 - Update assignment grades\n"
   ]
  },
  {
   "cell_type": "code",
   "execution_count": 108,
   "id": "b87509c1",
   "metadata": {},
   "outputs": [
    {
     "data": {
      "text/plain": [
       "0"
      ]
     },
     "execution_count": 108,
     "metadata": {},
     "output_type": "execute_result"
    }
   ],
   "source": [
    "# Update all assignments with grade 'B-' to 'B+'\n",
    "query = {\"grade\": \"B-\"}\n",
    "update = {\"$set\": {\"grade\": \"B+\"}}\n",
    "\n",
    "# Apply the update to all matching documents in the 'assignment' collection\n",
    "update_many_documents(assignment, query, update)\n"
   ]
  },
  {
   "cell_type": "markdown",
   "id": "3cc7d930",
   "metadata": {},
   "source": [
    "3.3.4 - Add tags to an existing course"
   ]
  },
  {
   "cell_type": "markdown",
   "id": "e85378fd",
   "metadata": {},
   "source": []
  },
  {
   "cell_type": "code",
   "execution_count": 109,
   "id": "fd5d883a",
   "metadata": {},
   "outputs": [
    {
     "data": {
      "text/plain": [
       "0"
      ]
     },
     "execution_count": 109,
     "metadata": {},
     "output_type": "execute_result"
    }
   ],
   "source": [
    "# Add a new tag 'database' to the course with ID 'course_1' (avoiding duplicates)\n",
    "query = {\"course_id\": \"course_1\"}\n",
    "update = {\"$addToSet\": {\"tag\": \"database\"}}\n",
    "\n",
    "# Apply the update to the 'courses' collection\n",
    "update_document(courses, query, update)\n"
   ]
  },
  {
   "cell_type": "markdown",
   "id": "b2627429",
   "metadata": {},
   "source": [
    "Task 3.4: Delete Operations"
   ]
  },
  {
   "cell_type": "markdown",
   "id": "56903ec6",
   "metadata": {},
   "source": [
    "3.4.1 - Remove a user (soft delete by setting isActive to false)"
   ]
  },
  {
   "cell_type": "code",
   "execution_count": 110,
   "id": "a26fce3b",
   "metadata": {},
   "outputs": [
    {
     "data": {
      "text/plain": [
       "0"
      ]
     },
     "execution_count": 110,
     "metadata": {},
     "output_type": "execute_result"
    }
   ],
   "source": [
    "# Deactivate a user by setting 'is_active' to False for user_1\n",
    "query = {\"user_id\": \"user_1\"}\n",
    "update = {\"$set\": {\"is_active\": False}}\n",
    "\n",
    "# Apply the update to the 'users' collection\n",
    "update_document(users, query, update)\n"
   ]
  },
  {
   "cell_type": "markdown",
   "id": "042f64e0",
   "metadata": {},
   "source": [
    "3.4.2 - Delete an enrollment"
   ]
  },
  {
   "cell_type": "code",
   "execution_count": 111,
   "id": "12b46a24",
   "metadata": {},
   "outputs": [
    {
     "data": {
      "text/plain": [
       "1"
      ]
     },
     "execution_count": 111,
     "metadata": {},
     "output_type": "execute_result"
    }
   ],
   "source": [
    "# Delete a specific enrollment record with ID 'enrollment_1'\n",
    "query = {\"enrollment_id\": \"enrollment_1\"}\n",
    "\n",
    "# Remove the matching document from the 'enrollment' collection\n",
    "delete_document(enrollment, query)\n"
   ]
  },
  {
   "cell_type": "markdown",
   "id": "1d8bdf13",
   "metadata": {},
   "source": [
    "3.4.3 - Remove a lesson from a course"
   ]
  },
  {
   "cell_type": "code",
   "execution_count": 112,
   "id": "1d88cfea",
   "metadata": {},
   "outputs": [
    {
     "data": {
      "text/plain": [
       "1"
      ]
     },
     "execution_count": 112,
     "metadata": {},
     "output_type": "execute_result"
    }
   ],
   "source": [
    "# Delete a specific lesson document with ID 'lesson_1'\n",
    "query = {\"lesson_id\": \"lesson_1\"}\n",
    "\n",
    "# Remove the matching document from the 'lesson' collection\n",
    "delete_document(lesson, query)\n"
   ]
  },
  {
   "cell_type": "markdown",
   "id": "c94ea486",
   "metadata": {},
   "source": []
  },
  {
   "cell_type": "markdown",
   "id": "a12fb8ae",
   "metadata": {},
   "source": [
    "Part 4: Advanced Queries and Aggregation"
   ]
  },
  {
   "cell_type": "markdown",
   "id": "87ef8d33",
   "metadata": {},
   "source": [
    "Task 4.1: Complex Queries\n",
    "Write Python code using various PyMongo operators:"
   ]
  },
  {
   "cell_type": "markdown",
   "id": "054d86a5",
   "metadata": {},
   "source": []
  },
  {
   "cell_type": "markdown",
   "id": "c1e6c212",
   "metadata": {},
   "source": [
    "4.1.1 - Find courses with price between $50 and $200"
   ]
  },
  {
   "cell_type": "code",
   "execution_count": 113,
   "id": "94be278d",
   "metadata": {},
   "outputs": [
    {
     "name": "stdout",
     "output_type": "stream",
     "text": [
      "{'_id': ObjectId('68e293c543a8ff36f4d1e6fc'), 'course_id': 'course_5', 'title': 'NoSql', 'price': 79}\n",
      "{'_id': ObjectId('68e2d95cd9abc9eb13d086c8'), 'course_id': 'course_4', 'title': 'Discrete Math', 'price': 79}\n",
      "{'_id': ObjectId('68e2d95cd9abc9eb13d086cc'), 'course_id': 'course_8', 'title': 'Cloud Fundamentals', 'price': 79}\n",
      "{'_id': ObjectId('68e2dc56c3defe6ef29302eb'), 'course_id': 'course_4', 'title': 'Discrete Math', 'price': 79}\n"
     ]
    }
   ],
   "source": [
    "# Find and display all courses priced between $50 and $200\n",
    "query = {\"price\": {\"$gte\": 50, \"$lte\": 200}}\n",
    "\n",
    "projection = {\n",
    "    \"course_id\": 1,\n",
    "    \"title\": 1,\n",
    "    \"price\": 1\n",
    "}\n",
    "\n",
    "# Retrieve matching courses with selected fields\n",
    "result = find_many_documents(courses, query, projection=projection)\n",
    "\n",
    "for doc in result:\n",
    "    print(doc)\n"
   ]
  },
  {
   "cell_type": "markdown",
   "id": "85341880",
   "metadata": {},
   "source": [
    "4.1.2 - Get users who joined in the last 6 months"
   ]
  },
  {
   "cell_type": "code",
   "execution_count": 114,
   "id": "6ed306b1",
   "metadata": {},
   "outputs": [
    {
     "name": "stdout",
     "output_type": "stream",
     "text": [
      "{'_id': ObjectId('68e28c3743a8ff36f4d1e6ca'), 'user_id': 'user_1', 'first_name': 'Musa', 'last_name': 'Onyia', 'email': 'musa.onyia@eduhub.com', 'role': 'student', 'date_joined': datetime.datetime(2025, 10, 5, 16, 18, 15, 675000), 'profile': {'bio': 'I am Musa, based in Davidton with interest in data analysis and data processing', 'avatar': 'blessed_assurance', 'skills': ['data warehousing', 'it', 'data integration', 'designing']}, 'is_active': False}\n",
      "{'_id': ObjectId('68e28c3743a8ff36f4d1e6cb'), 'user_id': 'user_2', 'first_name': 'Kunle', 'last_name': 'Balogun', 'email': 'kunle.balogun@eduhub.com', 'role': 'student', 'date_joined': datetime.datetime(2025, 10, 5, 16, 18, 15, 675000), 'profile': {'bio': 'I am Kunle, based in West Stacy with interest in reading and data warehousing', 'avatar': 'brutal_tenancious', 'skills': ['it', 'data retrieval', 'blockchain', 'hr']}, 'is_active': False}\n",
      "{'_id': ObjectId('68e28c3743a8ff36f4d1e6cc'), 'user_id': 'user_3', 'first_name': 'Adanna', 'last_name': 'Uche', 'email': 'adanna.uche@eduhub.com', 'role': 'student', 'date_joined': datetime.datetime(2025, 10, 5, 16, 18, 15, 675000), 'profile': {'bio': 'I am Adanna, based in Lake Pamelaton with interest in data storage and it', 'avatar': 'brutal_tenancious', 'skills': ['data transformation', 'cybersecurity', 'data retrieval', 'data warehousing']}, 'is_active': False}\n",
      "{'_id': ObjectId('68e28c3743a8ff36f4d1e6cd'), 'user_id': 'user_4', 'first_name': 'Olu', 'last_name': 'Ogbonna', 'email': 'olu.ogbonna@eduhub.com', 'role': 'student', 'date_joined': datetime.datetime(2025, 10, 5, 16, 18, 15, 675000), 'profile': {'bio': 'I am Olu, based in Harmonfurt with interest in iot and data processing', 'avatar': 'brutal_tenancious', 'skills': ['data loading', 'data processing', 'data analysis', 'data visualization']}, 'is_active': True}\n",
      "{'_id': ObjectId('68e28c3743a8ff36f4d1e6ce'), 'user_id': 'user_5', 'first_name': 'Yusuf', 'last_name': 'Aliyu', 'email': 'yusuf.aliyu@eduhub.com', 'role': 'student', 'date_joined': datetime.datetime(2025, 10, 5, 16, 18, 15, 675000), 'profile': {'bio': 'I am Yusuf, based in Ashleymouth with interest in coding and data visualization', 'avatar': 'stay_wicked', 'skills': ['data loading', 'data mining', 'data transformation', 'sales']}, 'is_active': True}\n",
      "{'_id': ObjectId('68e28c3743a8ff36f4d1e6cf'), 'user_id': 'user_6', 'first_name': 'Grace', 'last_name': 'Bello', 'email': 'grace.bello@eduhub.com', 'role': 'student', 'date_joined': datetime.datetime(2025, 10, 5, 16, 18, 15, 676000), 'profile': {'bio': 'I am Grace, based in South Kevinborough with interest in data warehousing and data loading', 'avatar': 'brutal_tenancious', 'skills': ['marketing', 'data warehousing', 'cybersecurity', 'mobile']}, 'is_active': False}\n",
      "{'_id': ObjectId('68e28c3743a8ff36f4d1e6d0'), 'user_id': 'user_7', 'first_name': 'Jide', 'last_name': 'Umar', 'email': 'jide.umar@eduhub.com', 'role': 'student', 'date_joined': datetime.datetime(2025, 10, 5, 16, 18, 15, 676000), 'profile': {'bio': 'I am Jide, based in Petershire with interest in data integration and data analysis', 'avatar': 'stay_wicked', 'skills': ['data visualization', 'marketing', 'data warehousing', 'reading']}, 'is_active': False}\n",
      "{'_id': ObjectId('68e28c3743a8ff36f4d1e6d1'), 'user_id': 'user_8', 'first_name': 'Obinna', 'last_name': 'Mohammed', 'email': 'obinna.mohammed@eduhub.com', 'role': 'student', 'date_joined': datetime.datetime(2025, 10, 5, 16, 18, 15, 676000), 'profile': {'bio': 'I am Obinna, based in North Craigborough with interest in data processing and data engineering', 'avatar': 'blessed_assurance', 'skills': ['finance', 'ui/ux design', 'data visualization', 'data transformation']}, 'is_active': True}\n",
      "{'_id': ObjectId('68e28c3743a8ff36f4d1e6d2'), 'user_id': 'user_9', 'first_name': 'Amina', 'last_name': 'Adewale', 'email': 'amina.adewale@eduhub.com', 'role': 'student', 'date_joined': datetime.datetime(2025, 10, 5, 16, 18, 15, 676000), 'profile': {'bio': 'I am Amina, based in South Hunter with interest in data transformation and data modeling', 'avatar': 'stay_wicked', 'skills': ['data transformation', 'sales', 'data analysis', 'data analysis']}, 'is_active': True}\n",
      "{'_id': ObjectId('68e28c3743a8ff36f4d1e6d3'), 'user_id': 'user_10', 'first_name': 'Okonkwo', 'last_name': 'Okeke', 'email': 'okonkwo.okeke@eduhub.com', 'role': 'student', 'date_joined': datetime.datetime(2025, 10, 5, 16, 18, 15, 676000), 'profile': {'bio': 'I am Okonkwo, based in New Matthew with interest in data transformation and data modeling', 'avatar': 'warmly_endurance', 'skills': ['sales', 'data modeling', 'data cleaning', 'designing']}, 'is_active': True}\n",
      "{'_id': ObjectId('68e28c3743a8ff36f4d1e6d4'), 'user_id': 'user_11', 'first_name': 'Tunde', 'last_name': 'Adeleke', 'email': 'tunde.adeleke@eduhub.com', 'role': 'student', 'date_joined': datetime.datetime(2025, 10, 5, 16, 18, 15, 676000), 'profile': {'bio': 'I am Tunde, based in Tarabury with interest in hr and devops', 'avatar': 'blessed_assurance', 'skills': ['data visualization', 'data integration', 'data storage', 'data warehousing']}, 'is_active': True}\n",
      "{'_id': ObjectId('68e28c3743a8ff36f4d1e6d5'), 'user_id': 'user_12', 'first_name': 'Abdul', 'last_name': 'Bello', 'email': 'abdul.bello@eduhub.com', 'role': 'student', 'date_joined': datetime.datetime(2025, 10, 5, 16, 18, 15, 676000), 'profile': {'bio': 'I am Abdul, based in Port Jennifer with interest in data retrieval and it', 'avatar': 'blessed_assurance', 'skills': ['data mining', 'data warehousing', 'security', 'data retrieval']}, 'is_active': True}\n",
      "{'_id': ObjectId('68e28c3743a8ff36f4d1e6d6'), 'user_id': 'user_13', 'first_name': 'Blessing', 'last_name': 'Yusuf', 'email': 'blessing.yusuf@eduhub.com', 'role': 'student', 'date_joined': datetime.datetime(2025, 10, 5, 16, 18, 15, 676000), 'profile': {'bio': 'I am Blessing, based in Karafort with interest in data warehousing and database', 'avatar': 'warmly_endurance', 'skills': ['data mining', 'data integration', 'data cleaning', 'management']}, 'is_active': True}\n",
      "{'_id': ObjectId('68e28c3743a8ff36f4d1e6d7'), 'user_id': 'user_14', 'first_name': 'Ibrahim', 'last_name': 'Alade', 'email': 'ibrahim.alade@eduhub.com', 'role': 'student', 'date_joined': datetime.datetime(2025, 10, 5, 16, 18, 15, 676000), 'profile': {'bio': 'I am Ibrahim, based in Chavezburgh with interest in reading and reading', 'avatar': 'stay_wicked', 'skills': ['data storage', 'data modeling', 'data loading', 'data loading']}, 'is_active': True}\n",
      "{'_id': ObjectId('68e28c3743a8ff36f4d1e6d8'), 'user_id': 'user_15', 'first_name': 'Fatima', 'last_name': 'Alade', 'email': 'fatima.alade@eduhub.com', 'role': 'student', 'date_joined': datetime.datetime(2025, 10, 5, 16, 18, 15, 676000), 'profile': {'bio': 'I am Fatima, based in New Breanna with interest in data retrieval and management', 'avatar': 'stay_wicked', 'skills': ['management', 'devops', 'cybersecurity', 'sales']}, 'is_active': False}\n",
      "{'_id': ObjectId('68e28c3743a8ff36f4d1e6d9'), 'user_id': 'user_16', 'first_name': 'Kemi', 'last_name': 'Eze', 'email': 'kemi.eze@eduhub.com', 'role': 'student', 'date_joined': datetime.datetime(2025, 10, 5, 16, 18, 15, 676000), 'profile': {'bio': 'I am Kemi, based in Lake Sharon with interest in data visualization and writing', 'avatar': 'brutal_tenancious', 'skills': ['blockchain', 'big data', 'data science', 'finance']}, 'is_active': True}\n",
      "{'_id': ObjectId('68e28c3743a8ff36f4d1e6da'), 'user_id': 'user_17', 'first_name': 'Chioma', 'last_name': 'Obi', 'email': 'chioma.obi@eduhub.com', 'role': 'instructor', 'date_joined': datetime.datetime(2025, 10, 5, 16, 18, 15, 676000), 'profile': {'bio': 'I am Chioma, based in Port Samanthachester with interest in data storage and coding', 'avatar': 'stay_wicked', 'skills': ['data cleaning', 'hr', 'mobile', 'data processing']}, 'is_active': True}\n",
      "{'_id': ObjectId('68e28c3743a8ff36f4d1e6db'), 'user_id': 'user_18', 'first_name': 'Amina', 'last_name': 'Okafor', 'email': 'amina.okafor@eduhub.com', 'role': 'instructor', 'date_joined': datetime.datetime(2025, 10, 5, 16, 18, 15, 677000), 'profile': {'bio': 'I am Amina, based in West Debra with interest in data visualization and data visualization', 'avatar': 'warmly_endurance', 'skills': ['writing', 'data storage', 'database', 'reading']}, 'is_active': True}\n",
      "{'_id': ObjectId('68e28c3743a8ff36f4d1e6dc'), 'user_id': 'user_19', 'first_name': 'Chidinma', 'last_name': 'Mohammed', 'email': 'chidinma.mohammed@eduhub.com', 'role': 'instructor', 'date_joined': datetime.datetime(2025, 10, 5, 16, 18, 15, 677000), 'profile': {'bio': 'I am Chidinma, based in South Benjamin with interest in data modeling and data mining', 'avatar': 'brutal_tenancious', 'skills': ['data visualization', 'it', 'sales', 'data analysis']}, 'is_active': True}\n",
      "{'_id': ObjectId('68e28c3743a8ff36f4d1e6dd'), 'user_id': 'user_20', 'first_name': 'Jide', 'last_name': 'Balogun', 'email': 'jide.balogun@eduhub.com', 'role': 'instructor', 'date_joined': datetime.datetime(2025, 10, 5, 16, 18, 15, 677000), 'profile': {'bio': 'I am Jide, based in Jenniferburgh with interest in blockchain and data processing', 'avatar': 'stay_wicked', 'skills': ['sales', 'data modeling', 'data warehousing', 'data science']}, 'is_active': False}\n",
      "{'_id': ObjectId('68e2d95cd9abc9eb13d086b0'), 'user_id': 'user_1', 'first_name': 'Chika', 'last_name': 'Okonkwo', 'email': 'chika.okonkwo@eduhub.com', 'role': 'student', 'date_joined': datetime.datetime(2025, 10, 5, 21, 47, 24, 899000), 'profile': {'bio': 'I am Chika, based in Lake Kennethtown with interest in reading and data cleaning', 'avatar': 'warmly_endurance', 'skills': ['cybersecurity', 'data storage', 'ui/ux design', 'data loading']}, 'is_active': True}\n",
      "{'_id': ObjectId('68e2d95cd9abc9eb13d086b1'), 'user_id': 'user_2', 'first_name': 'Wale', 'last_name': 'Ibrahim', 'email': 'wale.ibrahim@eduhub.com', 'role': 'student', 'date_joined': datetime.datetime(2025, 10, 5, 21, 47, 24, 899000), 'profile': {'bio': 'I am Wale, based in Kathrynberg with interest in data science and finance', 'avatar': 'warmly_endurance', 'skills': ['hr', 'cybersecurity', 'blockchain', 'cybersecurity']}, 'is_active': False}\n",
      "{'_id': ObjectId('68e2d95cd9abc9eb13d086b2'), 'user_id': 'user_3', 'first_name': 'Chioma', 'last_name': 'Bakare', 'email': 'chioma.bakare@eduhub.com', 'role': 'student', 'date_joined': datetime.datetime(2025, 10, 5, 21, 47, 24, 899000), 'profile': {'bio': 'I am Chioma, based in North Barbara with interest in coding and big data', 'avatar': 'brutal_tenancious', 'skills': ['data storage', 'iot', 'networking', 'devops']}, 'is_active': False}\n",
      "{'_id': ObjectId('68e2d95cd9abc9eb13d086b3'), 'user_id': 'user_4', 'first_name': 'Ifeoma', 'last_name': 'Ogbonna', 'email': 'ifeoma.ogbonna@eduhub.com', 'role': 'student', 'date_joined': datetime.datetime(2025, 10, 5, 21, 47, 24, 899000), 'profile': {'bio': 'I am Ifeoma, based in Alexanderside with interest in data cleaning and data modeling', 'avatar': 'blessed_assurance', 'skills': ['data warehousing', 'iot', 'data engineering', 'devops']}, 'is_active': True}\n",
      "{'_id': ObjectId('68e2d95cd9abc9eb13d086b4'), 'user_id': 'user_5', 'first_name': 'Ifeoma', 'last_name': 'Mustapha', 'email': 'ifeoma.mustapha@eduhub.com', 'role': 'student', 'date_joined': datetime.datetime(2025, 10, 5, 21, 47, 24, 899000), 'profile': {'bio': 'I am Ifeoma, based in Port Meghanmouth with interest in marketing and reading', 'avatar': 'warmly_endurance', 'skills': ['management', 'data cleaning', 'data science', 'data mining']}, 'is_active': False}\n",
      "{'_id': ObjectId('68e2d95cd9abc9eb13d086b5'), 'user_id': 'user_6', 'first_name': 'Segun', 'last_name': 'Yusuf', 'email': 'segun.yusuf@eduhub.com', 'role': 'student', 'date_joined': datetime.datetime(2025, 10, 5, 21, 47, 24, 899000), 'profile': {'bio': 'I am Segun, based in Ramirezberg with interest in finance and management', 'avatar': 'blessed_assurance', 'skills': ['data mining', 'hr', 'cybersecurity', 'mobile']}, 'is_active': True}\n",
      "{'_id': ObjectId('68e2d95cd9abc9eb13d086b6'), 'user_id': 'user_7', 'first_name': 'Temitope', 'last_name': 'Okonkwo', 'email': 'temitope.okonkwo@eduhub.com', 'role': 'student', 'date_joined': datetime.datetime(2025, 10, 5, 21, 47, 24, 899000), 'profile': {'bio': 'I am Temitope, based in Patriciaborough with interest in data mining and data cleaning', 'avatar': 'warmly_endurance', 'skills': ['data visualization', 'security', 'cybersecurity', 'mobile']}, 'is_active': True}\n",
      "{'_id': ObjectId('68e2d95cd9abc9eb13d086b7'), 'user_id': 'user_8', 'first_name': 'Chioma', 'last_name': 'Nwosu', 'email': 'chioma.nwosu@eduhub.com', 'role': 'student', 'date_joined': datetime.datetime(2025, 10, 5, 21, 47, 24, 899000), 'profile': {'bio': 'I am Chioma, based in Hannahton with interest in data transformation and mobile', 'avatar': 'brutal_tenancious', 'skills': ['data analysis', 'cybersecurity', 'data processing', 'data integration']}, 'is_active': False}\n",
      "{'_id': ObjectId('68e2d95cd9abc9eb13d086b8'), 'user_id': 'user_9', 'first_name': 'Mohammed', 'last_name': 'Adewale', 'email': 'mohammed.adewale@eduhub.com', 'role': 'student', 'date_joined': datetime.datetime(2025, 10, 5, 21, 47, 24, 899000), 'profile': {'bio': 'I am Mohammed, based in Shawnland with interest in cybersecurity and cloud', 'avatar': 'blessed_assurance', 'skills': ['ui/ux design', 'coding', 'it', 'data engineering']}, 'is_active': True}\n",
      "{'_id': ObjectId('68e2d95cd9abc9eb13d086b9'), 'user_id': 'user_10', 'first_name': 'Sani', 'last_name': 'Onyema', 'email': 'sani.onyema@eduhub.com', 'role': 'student', 'date_joined': datetime.datetime(2025, 10, 5, 21, 47, 24, 900000), 'profile': {'bio': 'I am Sani, based in North Robert with interest in data storage and data science', 'avatar': 'stay_wicked', 'skills': ['data integration', 'writing', 'data retrieval', 'finance']}, 'is_active': True}\n",
      "{'_id': ObjectId('68e2d95cd9abc9eb13d086ba'), 'user_id': 'user_11', 'first_name': 'Amara', 'last_name': 'Balogun', 'email': 'amara.balogun@eduhub.com', 'role': 'student', 'date_joined': datetime.datetime(2025, 10, 5, 21, 47, 24, 900000), 'profile': {'bio': 'I am Amara, based in Josephborough with interest in data mining and cybersecurity', 'avatar': 'blessed_assurance', 'skills': ['big data', 'data integration', 'database', 'data mining']}, 'is_active': True}\n",
      "{'_id': ObjectId('68e2d95cd9abc9eb13d086bb'), 'user_id': 'user_12', 'first_name': 'Kemi', 'last_name': 'Uche', 'email': 'kemi.uche@eduhub.com', 'role': 'student', 'date_joined': datetime.datetime(2025, 10, 5, 21, 47, 24, 900000), 'profile': {'bio': 'I am Kemi, based in Millerview with interest in data transformation and data cleaning', 'avatar': 'warmly_endurance', 'skills': ['writing', 'data transformation', 'blockchain', 'coding']}, 'is_active': True}\n",
      "{'_id': ObjectId('68e2d95cd9abc9eb13d086bc'), 'user_id': 'user_13', 'first_name': 'Okonkwo', 'last_name': 'Afolayan', 'email': 'okonkwo.afolayan@eduhub.com', 'role': 'student', 'date_joined': datetime.datetime(2025, 10, 5, 21, 47, 24, 900000), 'profile': {'bio': 'I am Okonkwo, based in Michelleton with interest in data processing and cybersecurity', 'avatar': 'warmly_endurance', 'skills': ['iot', 'data modeling', 'coding', 'data visualization']}, 'is_active': False}\n",
      "{'_id': ObjectId('68e2d95cd9abc9eb13d086bd'), 'user_id': 'user_14', 'first_name': 'Kemi', 'last_name': 'Bello', 'email': 'kemi.bello@eduhub.com', 'role': 'student', 'date_joined': datetime.datetime(2025, 10, 5, 21, 47, 24, 900000), 'profile': {'bio': 'I am Kemi, based in Parkermouth with interest in data visualization and data integration', 'avatar': 'stay_wicked', 'skills': ['data storage', 'data mining', 'data processing', 'data loading']}, 'is_active': True}\n",
      "{'_id': ObjectId('68e2d95cd9abc9eb13d086be'), 'user_id': 'user_15', 'first_name': 'Eze', 'last_name': 'Onyia', 'email': 'eze.onyia@eduhub.com', 'role': 'student', 'date_joined': datetime.datetime(2025, 10, 5, 21, 47, 24, 900000), 'profile': {'bio': 'I am Eze, based in Lake Kimberly with interest in data loading and sales', 'avatar': 'brutal_tenancious', 'skills': ['data storage', 'data analysis', 'database', 'data loading']}, 'is_active': True}\n",
      "{'_id': ObjectId('68e2d95cd9abc9eb13d086bf'), 'user_id': 'user_16', 'first_name': 'Olu', 'last_name': 'Chukwu', 'email': 'olu.chukwu@eduhub.com', 'role': 'student', 'date_joined': datetime.datetime(2025, 10, 5, 21, 47, 24, 900000), 'profile': {'bio': 'I am Olu, based in Deniseside with interest in coding and data retrieval', 'avatar': 'warmly_endurance', 'skills': ['data science', 'data warehousing', 'data warehousing', 'it']}, 'is_active': False}\n",
      "{'_id': ObjectId('68e2d95cd9abc9eb13d086c0'), 'user_id': 'user_17', 'first_name': 'Deborah', 'last_name': 'Mustapha', 'email': 'deborah.mustapha@eduhub.com', 'role': 'instructor', 'date_joined': datetime.datetime(2025, 10, 5, 21, 47, 24, 900000), 'profile': {'bio': 'I am Deborah, based in Stacyland with interest in management and data analysis', 'avatar': 'stay_wicked', 'skills': ['data processing', 'ui/ux design', 'reading', 'data cleaning']}, 'is_active': False}\n",
      "{'_id': ObjectId('68e2d95cd9abc9eb13d086c1'), 'user_id': 'user_18', 'first_name': 'Ade', 'last_name': 'Okoh', 'email': 'ade.okoh@eduhub.com', 'role': 'instructor', 'date_joined': datetime.datetime(2025, 10, 5, 21, 47, 24, 900000), 'profile': {'bio': 'I am Ade, based in East Dakota with interest in data visualization and data visualization', 'avatar': 'brutal_tenancious', 'skills': ['data analysis', 'iot', 'data loading', 'it']}, 'is_active': False}\n",
      "{'_id': ObjectId('68e2d95cd9abc9eb13d086c2'), 'user_id': 'user_19', 'first_name': 'Kunle', 'last_name': 'Chukwu', 'email': 'kunle.chukwu@eduhub.com', 'role': 'instructor', 'date_joined': datetime.datetime(2025, 10, 5, 21, 47, 24, 900000), 'profile': {'bio': 'I am Kunle, based in Christineview with interest in designing and data modeling', 'avatar': 'warmly_endurance', 'skills': ['data science', 'designing', 'data mining', 'iot']}, 'is_active': False}\n",
      "{'_id': ObjectId('68e2d95cd9abc9eb13d086c3'), 'user_id': 'user_20', 'first_name': 'Segun', 'last_name': 'Adewale', 'email': 'segun.adewale@eduhub.com', 'role': 'instructor', 'date_joined': datetime.datetime(2025, 10, 5, 21, 47, 24, 900000), 'profile': {'bio': 'I am Segun, based in Murphystad with interest in data analysis and data transformation', 'avatar': 'stay_wicked', 'skills': ['data analysis', 'data cleaning', 'data integration', 'hr']}, 'is_active': False}\n",
      "{'_id': ObjectId('68e2dc56c3defe6ef29302d3'), 'user_id': 'user_1', 'first_name': 'Zara', 'last_name': 'Okeke', 'email': 'zara.okeke@eduhub.com', 'role': 'student', 'date_joined': datetime.datetime(2025, 10, 5, 22, 0, 6, 898000), 'profile': {'bio': 'I am Zara, based in North Emilyberg with interest in cloud and sales', 'avatar': 'blessed_assurance', 'skills': ['data integration', 'reading', 'data engineering', 'ui/ux design']}, 'is_active': True}\n",
      "{'_id': ObjectId('68e2dc56c3defe6ef29302d4'), 'user_id': 'user_2', 'first_name': 'Zara', 'last_name': 'Bakare', 'email': 'zara.bakare@eduhub.com', 'role': 'student', 'date_joined': datetime.datetime(2025, 10, 5, 22, 0, 6, 898000), 'profile': {'bio': 'I am Zara, based in Port Laurenborough with interest in data analysis and hr', 'avatar': 'blessed_assurance', 'skills': ['data modeling', 'management', 'sales', 'data engineering']}, 'is_active': False}\n",
      "{'_id': ObjectId('68e2dc56c3defe6ef29302d5'), 'user_id': 'user_3', 'first_name': 'Ibrahim', 'last_name': 'Mohammed', 'email': 'ibrahim.mohammed@eduhub.com', 'role': 'student', 'date_joined': datetime.datetime(2025, 10, 5, 22, 0, 6, 898000), 'profile': {'bio': 'I am Ibrahim, based in West Kevin with interest in data warehousing and data analysis', 'avatar': 'brutal_tenancious', 'skills': ['data processing', 'marketing', 'finance', 'data mining']}, 'is_active': False}\n",
      "{'_id': ObjectId('68e2dc56c3defe6ef29302d6'), 'user_id': 'user_4', 'first_name': 'Adanna', 'last_name': 'Bakare', 'email': 'adanna.bakare@eduhub.com', 'role': 'student', 'date_joined': datetime.datetime(2025, 10, 5, 22, 0, 6, 898000), 'profile': {'bio': 'I am Adanna, based in South Karenport with interest in data analysis and hr', 'avatar': 'warmly_endurance', 'skills': ['data retrieval', 'data integration', 'it', 'networking']}, 'is_active': True}\n",
      "{'_id': ObjectId('68e2dc56c3defe6ef29302d7'), 'user_id': 'user_5', 'first_name': 'Okonkwo', 'last_name': 'Akintola', 'email': 'okonkwo.akintola@eduhub.com', 'role': 'student', 'date_joined': datetime.datetime(2025, 10, 5, 22, 0, 6, 898000), 'profile': {'bio': 'I am Okonkwo, based in West Sarah with interest in ui/ux design and data warehousing', 'avatar': 'stay_wicked', 'skills': ['data modeling', 'data science', 'sales', 'data cleaning']}, 'is_active': True}\n"
     ]
    }
   ],
   "source": [
    "# calculate 6 months ago (approx 30 days × 6)\n",
    "six_months_ago = datetime.now() - timedelta(days=180)\n",
    "\n",
    "query = { \"date_joined\": {\"$gt\": six_months_ago}}\n",
    "\n",
    "result = find_many_documents(users, query)\n",
    "for doc in result:\n",
    "    print(doc)"
   ]
  },
  {
   "cell_type": "markdown",
   "id": "84593cf3",
   "metadata": {},
   "source": [
    "4.1.3 - Find courses that have specific tags using $in operator"
   ]
  },
  {
   "cell_type": "code",
   "execution_count": 115,
   "id": "e16ba5e2",
   "metadata": {},
   "outputs": [
    {
     "name": "stdout",
     "output_type": "stream",
     "text": [
      "{'course_id': 'course_1', 'title': 'Intro to Databases', 'tag': ['devops', 'etl', 'mongo', 'database']}\n",
      "{'course_id': 'course_3', 'title': 'Python for Data', 'tag': ['mongo', 'etl', 'devops']}\n",
      "{'course_id': 'course_4', 'title': 'Discrete Math', 'tag': ['etl', 'cloud', 'python']}\n",
      "{'course_id': 'course_6', 'title': 'Algorithm 101', 'tag': ['python', 'math', 'mongo']}\n",
      "{'course_id': 'course_8', 'title': 'Cloud Fundamentals', 'tag': ['python', 'mongo', 'cloud']}\n",
      "{'course_id': 'course_9', 'title': 'Data Visualization Fundamentals', 'tag': ['python', 'data', 'visualization']}\n",
      "{'course_id': 'course_1', 'title': 'Intro to Databases', 'tag': ['python', 'mongo', 'cloud']}\n",
      "{'course_id': 'course_3', 'title': 'Python for Data', 'tag': ['math', 'devops', 'python']}\n",
      "{'course_id': 'course_4', 'title': 'Discrete Math', 'tag': ['mongo', 'python', 'devops']}\n",
      "{'course_id': 'course_6', 'title': 'Algorithm 101', 'tag': ['math', 'python', 'etl']}\n",
      "{'course_id': 'course_7', 'title': 'Devops Basics', 'tag': ['etl', 'devops', 'mongo']}\n",
      "{'course_id': 'course_8', 'title': 'Cloud Fundamentals', 'tag': ['mongo', 'math', 'devops']}\n",
      "{'course_id': 'course_3', 'title': 'Python for Data', 'tag': ['etl', 'devops', 'mongo']}\n",
      "{'course_id': 'course_4', 'title': 'Discrete Math', 'tag': ['etl', 'cloud', 'mongo']}\n",
      "{'course_id': 'course_5', 'title': 'NoSql', 'tag': ['devops', 'python', 'etl']}\n",
      "{'course_id': 'course_6', 'title': 'Algorithm 101', 'tag': ['etl', 'mongo', 'cloud']}\n",
      "{'course_id': 'course_7', 'title': 'Devops Basics', 'tag': ['cloud', 'python', 'math']}\n",
      "{'course_id': 'course_8', 'title': 'Cloud Fundamentals', 'tag': ['math', 'python', 'devops']}\n",
      "{'course_id': 'course_9', 'title': 'Data Visualization Fundamentals', 'tag': ['python', 'data', 'visualization']}\n",
      "{'course_id': 'course_9', 'title': 'Data Visualization Fundamentals', 'tag': ['python', 'data', 'visualization']}\n"
     ]
    }
   ],
   "source": [
    "# Find and display all courses that include either 'mongo' or 'python' in their tags\n",
    "query = {\"tag\": {\"$in\": [\"mongo\", \"python\"]}}\n",
    "\n",
    "projection = {\n",
    "    \"_id\": 0,\n",
    "    \"course_id\": 1,\n",
    "    \"title\": 1,\n",
    "    \"tag\": 1\n",
    "}\n",
    "\n",
    "# Retrieve matching courses with selected fields\n",
    "result = find_many_documents(courses, query, projection)\n",
    "\n",
    "for doc in result:\n",
    "    print(doc)\n"
   ]
  },
  {
   "cell_type": "markdown",
   "id": "43cdc95d",
   "metadata": {},
   "source": [
    "4.1.4 - Retrieve assignments with due dates in the next week"
   ]
  },
  {
   "cell_type": "code",
   "execution_count": 116,
   "id": "b07406fe",
   "metadata": {},
   "outputs": [
    {
     "name": "stdout",
     "output_type": "stream",
     "text": [
      "{'_id': ObjectId('68e296c643a8ff36f4d1e707'), 'assignment_id': 'assignment_7', 'course_id': 'course_3', 'due_date': datetime.datetime(2025, 10, 8, 17, 3, 18, 217000), 'description': 'This assignment test on Advanced Techniques'}\n",
      "{'_id': ObjectId('68e2dc57c3defe6ef293030f'), 'assignment_id': 'assignment_5', 'course_id': 'course_2', 'due_date': datetime.datetime(2025, 10, 8, 22, 0, 7, 53000), 'description': 'This assignment test on Hands-on Practice'}\n",
      "{'_id': ObjectId('68e296c643a8ff36f4d1e701'), 'assignment_id': 'assignment_1', 'course_id': 'course_1', 'due_date': datetime.datetime(2025, 10, 10, 17, 3, 18, 217000), 'description': 'This assignment test on Troubleshooting'}\n",
      "{'_id': ObjectId('68e2dc57c3defe6ef2930311'), 'assignment_id': 'assignment_7', 'course_id': 'course_3', 'due_date': datetime.datetime(2025, 10, 10, 22, 0, 7, 53000), 'description': 'This assignment test on Troubleshooting'}\n",
      "{'_id': ObjectId('68e2dc57c3defe6ef2930312'), 'assignment_id': 'assignment_8', 'course_id': 'course_3', 'due_date': datetime.datetime(2025, 10, 10, 22, 0, 7, 53000), 'description': 'This assignment test on Troubleshooting'}\n",
      "{'_id': ObjectId('68e2dc57c3defe6ef293030c'), 'assignment_id': 'assignment_2', 'course_id': 'course_1', 'due_date': datetime.datetime(2025, 10, 12, 22, 0, 7, 53000), 'description': 'This assignment test on Review'}\n"
     ]
    }
   ],
   "source": [
    "# Find and display assignments with due dates within the next 7 days\n",
    "today = datetime.now()\n",
    "next_week = today + timedelta(days=7)\n",
    "\n",
    "# Query assignments due between today and next week\n",
    "query = {\n",
    "    \"due_date\": {\n",
    "        \"$gte\": today,\n",
    "        \"$lte\": next_week\n",
    "    }\n",
    "}\n",
    "\n",
    "projection = {\n",
    "    \"assignment_id\": 1,\n",
    "    \"course_id\": 1,\n",
    "    \"due_date\": 1,\n",
    "    \"description\": 1\n",
    "}\n",
    "\n",
    "# Retrieve matching assignments with selected fields\n",
    "result = find_many_documents(assignment, query, projection=projection)\n",
    "\n",
    "for doc in result:\n",
    "    print(doc)\n",
    "\n",
    " \n"
   ]
  },
  {
   "cell_type": "markdown",
   "id": "264569e6",
   "metadata": {},
   "source": [
    "Task 4.2: Aggregation Pipeline\n",
    "Create aggregation pipelines using PyMongo"
   ]
  },
  {
   "cell_type": "markdown",
   "id": "86c7fd1d",
   "metadata": {},
   "source": [
    "4.2 - Course Enrollment Statistics:"
   ]
  },
  {
   "cell_type": "markdown",
   "id": "6ccb7555",
   "metadata": {},
   "source": [
    "4.2.1 - Count total enrollments per course"
   ]
  },
  {
   "cell_type": "code",
   "execution_count": 117,
   "id": "172044b6",
   "metadata": {},
   "outputs": [
    {
     "name": "stdout",
     "output_type": "stream",
     "text": [
      "8\n",
      "{'total_enrollments': 9, 'course_id': 'course_2'}\n",
      "{'total_enrollments': 7, 'course_id': 'course_5'}\n",
      "{'total_enrollments': 6, 'course_id': 'course_1'}\n",
      "{'total_enrollments': 6, 'course_id': 'course_8'}\n",
      "{'total_enrollments': 5, 'course_id': 'course_3'}\n",
      "{'total_enrollments': 5, 'course_id': 'course_4'}\n",
      "{'total_enrollments': 4, 'course_id': 'course_7'}\n",
      "{'total_enrollments': 3, 'course_id': 'course_6'}\n"
     ]
    }
   ],
   "source": [
    "# Count total enrollments per course using aggregation\n",
    "pipeline = [\n",
    "    {\n",
    "        \"$group\": {                                   # Group documents by course_id\n",
    "            \"_id\": \"$course_id\",\n",
    "            \"total_enrollments\": {\"$sum\": 1}          # Count number of enrollments in each course\n",
    "        }\n",
    "    },\n",
    "    {\n",
    "        \"$project\": {                                 # Format the output\n",
    "            \"_id\": 0,                                 # Exclude default _id field\n",
    "            \"course_id\": \"$_id\",                      # Rename _id to course_id\n",
    "            \"total_enrollments\": 1                    # Include total_enrollments field\n",
    "        }\n",
    "    },\n",
    "    {\n",
    "        \"$sort\": {\"total_enrollments\": -1}            # Sort by enrollment count (descending)\n",
    "    }\n",
    "]\n",
    "\n",
    "# Execute aggregation and print results\n",
    "results = aggregate(enrollment, pipeline)\n",
    "for doc in results:\n",
    "    print(doc)\n"
   ]
  },
  {
   "cell_type": "markdown",
   "id": "9afe3074",
   "metadata": {},
   "source": [
    "4.2.2 - Calculate average course rating"
   ]
  },
  {
   "cell_type": "markdown",
   "id": "d2cb9740",
   "metadata": {},
   "source": []
  },
  {
   "cell_type": "code",
   "execution_count": 118,
   "id": "e3dc5ff1",
   "metadata": {},
   "outputs": [
    {
     "name": "stdout",
     "output_type": "stream",
     "text": [
      "9\n",
      "{'course_id': 'course_9', 'avg_rating': 4.37}\n",
      "{'course_id': 'course_3', 'avg_rating': 4.23}\n",
      "{'course_id': 'course_6', 'avg_rating': 4.1}\n",
      "{'course_id': 'course_4', 'avg_rating': 4.03}\n",
      "{'course_id': 'course_5', 'avg_rating': 3.97}\n",
      "{'course_id': 'course_7', 'avg_rating': 3.97}\n",
      "{'course_id': 'course_2', 'avg_rating': 3.7}\n",
      "{'course_id': 'course_8', 'avg_rating': 3.67}\n",
      "{'course_id': 'course_1', 'avg_rating': 3.63}\n"
     ]
    }
   ],
   "source": [
    "# Calculate the average rating for each course\n",
    "pipeline = [\n",
    "    {\"$group\": {\"_id\": \"$course_id\", \"avg_rating\": {\"$avg\": \"$rating\"}}},  # Group by course_id and compute average rating\n",
    "    {\"$project\": {\"_id\": 0, \"course_id\": \"$_id\", \"avg_rating\": {\"$round\": [\"$avg_rating\", 2]}}},  # Format and round result\n",
    "    {\"$sort\": {\"avg_rating\": -1}}  # Sort courses by average rating (highest first)\n",
    "]\n",
    "\n",
    "# Execute aggregation and display the results\n",
    "results = aggregate(courses, pipeline)\n",
    "for doc in results:\n",
    "    print(doc)\n"
   ]
  },
  {
   "cell_type": "markdown",
   "id": "7fcc6431",
   "metadata": {},
   "source": [
    "4.2.3 - Group by course category"
   ]
  },
  {
   "cell_type": "code",
   "execution_count": 119,
   "id": "da9c33e7",
   "metadata": {},
   "outputs": [
    {
     "name": "stdout",
     "output_type": "stream",
     "text": [
      "4\n",
      "{'total_courses': 14, 'category': 'math'}\n",
      "{'total_courses': 6, 'category': 'data'}\n",
      "{'total_courses': 6, 'category': 'cs'}\n",
      "{'total_courses': 1, 'category': 'cloud'}\n"
     ]
    }
   ],
   "source": [
    "# Group courses by category and count how many exist in each category\n",
    "pipeline = [\n",
    "    {\n",
    "        \"$group\": {                                # Group documents by category\n",
    "            \"_id\": \"$category\",\n",
    "            \"total_courses\": {\"$sum\": 1}           # Count number of courses per category\n",
    "        }\n",
    "    },\n",
    "    {\n",
    "        \"$project\": {                              # Format the output\n",
    "            \"_id\": 0,                              # Exclude default _id field\n",
    "            \"category\": \"$_id\",                    # Rename _id to category\n",
    "            \"total_courses\": 1                     # Include total_courses field\n",
    "        }\n",
    "    },\n",
    "    {\n",
    "        \"$sort\": {\"total_courses\": -1}             # Sort categories by number of courses (descending)\n",
    "    }\n",
    "]\n",
    "\n",
    "# Execute aggregation and print results\n",
    "results = aggregate(courses, pipeline)\n",
    "for doc in results:\n",
    "    print(doc)\n"
   ]
  },
  {
   "cell_type": "markdown",
   "id": "c7876846",
   "metadata": {},
   "source": [
    "4.2 - Student Performance Analysis:\n"
   ]
  },
  {
   "cell_type": "markdown",
   "id": "1eabed33",
   "metadata": {},
   "source": [
    "4.2.2 - Average grade per student"
   ]
  },
  {
   "cell_type": "code",
   "execution_count": 120,
   "id": "17f6d904",
   "metadata": {},
   "outputs": [
    {
     "name": "stdout",
     "output_type": "stream",
     "text": [
      "1\n",
      "{'student_id': ['student1', 'student2', 'student3', 'student4', 'student5', 'student6', 'student7', 'student8', 'student9', 'student10', 'student11', 'student12', 'student13', 'student14', 'student15', 'student16'], 'avg_grade_point': 2.14}\n"
     ]
    }
   ],
   "source": [
    "# Calculate the average grade point (GPA) for each student\n",
    "pipeline = [\n",
    "    {\n",
    "        \"$group\": {                                        # Group assignments by student_id\n",
    "            \"_id\": \"$student_id\",\n",
    "            \"avg_grade_point\": {\"$avg\": \"$grade_point\"}    # Compute average grade_point per student\n",
    "        }\n",
    "    },\n",
    "    {\n",
    "        \"$project\": {                                      # Format the output\n",
    "            \"_id\": 0,\n",
    "            \"student_id\": \"$_id\",\n",
    "            \"avg_grade_point\": {\"$round\": [\"$avg_grade_point\", 2]}  # Round to 2 decimal places\n",
    "        }\n",
    "    },\n",
    "    {\"$sort\": {\"avg_grade_point\": -1}}                     # Sort by GPA in descending order\n",
    "]\n",
    "\n",
    "# Execute aggregation and print results\n",
    "results = aggregate(assignment, pipeline)\n",
    "for doc in results:\n",
    "    print(doc)\n"
   ]
  },
  {
   "cell_type": "markdown",
   "id": "564e0335",
   "metadata": {},
   "source": [
    "4.2.3 - Completion rate by course"
   ]
  },
  {
   "cell_type": "code",
   "execution_count": 121,
   "id": "cddbbe95",
   "metadata": {},
   "outputs": [
    {
     "name": "stdout",
     "output_type": "stream",
     "text": [
      "8\n",
      "{'total_enrollments': 5, 'completed_count': 3, 'course_id': 'course_4', 'completion_rate': '60%'}\n",
      "{'total_enrollments': 3, 'completed_count': 1, 'course_id': 'course_6', 'completion_rate': '33.33%'}\n",
      "{'total_enrollments': 9, 'completed_count': 3, 'course_id': 'course_2', 'completion_rate': '33.33%'}\n",
      "{'total_enrollments': 6, 'completed_count': 2, 'course_id': 'course_1', 'completion_rate': '33.33%'}\n",
      "{'total_enrollments': 4, 'completed_count': 1, 'course_id': 'course_7', 'completion_rate': '25%'}\n",
      "{'total_enrollments': 7, 'completed_count': 1, 'course_id': 'course_5', 'completion_rate': '14.29%'}\n",
      "{'total_enrollments': 5, 'completed_count': 0, 'course_id': 'course_3', 'completion_rate': '0%'}\n",
      "{'total_enrollments': 6, 'completed_count': 0, 'course_id': 'course_8', 'completion_rate': '0%'}\n"
     ]
    }
   ],
   "source": [
    "# Calculate course completion rate based on enrollment data\n",
    "pipeline = [\n",
    "    {\n",
    "        \"$group\": {                                              # Group enrollments by course_id\n",
    "            \"_id\": \"$course_id\",\n",
    "            \"total_enrollments\": {\"$sum\": 1},                    # Count total enrollments\n",
    "            \"completed_count\": {                                 # Count how many students completed the course\n",
    "                \"$sum\": {\n",
    "                    \"$cond\": [{\"$eq\": [\"$is_active\", False]}, 1, 0]  # If is_active = False, count as completed\n",
    "                }\n",
    "            }\n",
    "        }\n",
    "    },\n",
    "    {\n",
    "        \"$project\": {                                            # Format the output fields\n",
    "            \"_id\": 0,\n",
    "            \"course_id\": \"$_id\",\n",
    "            \"total_enrollments\": 1,\n",
    "            \"completed_count\": 1,\n",
    "            \"completion_rate\": {                                 # Calculate completion rate as a percentage\n",
    "                \"$concat\": [\n",
    "                    {\n",
    "                        \"$toString\": {\n",
    "                            \"$round\": [\n",
    "                                {\"$multiply\": [\n",
    "                                    {\"$divide\": [\"$completed_count\", \"$total_enrollments\"]}, 100\n",
    "                                ]},\n",
    "                                2\n",
    "                            ]\n",
    "                        }\n",
    "                    },\n",
    "                    \"%\"\n",
    "                ]\n",
    "            }\n",
    "        }\n",
    "    },\n",
    "    {\"$sort\": {\"completion_rate\": -1}}                           # Sort by completion rate in descending order\n",
    "]\n",
    "\n",
    "# Execute aggregation and print results\n",
    "results = aggregate(enrollment, pipeline)\n",
    "\n",
    "for result in results:\n",
    "    print(result)\n"
   ]
  },
  {
   "cell_type": "markdown",
   "id": "c441e25c",
   "metadata": {},
   "source": [
    "4.2.4 - Top-performing students"
   ]
  },
  {
   "cell_type": "code",
   "execution_count": 122,
   "id": "9d0a2113",
   "metadata": {},
   "outputs": [
    {
     "name": "stdout",
     "output_type": "stream",
     "text": [
      "1\n",
      "{'assignments_count': 20, 'student_id': ['student1', 'student2', 'student3', 'student4', 'student5', 'student6', 'student7', 'student8', 'student9', 'student10', 'student11', 'student12', 'student13', 'student14', 'student15', 'student16'], 'average_grade': 2.14}\n"
     ]
    }
   ],
   "source": [
    "# Identify the top-performing students based on their average grade points\n",
    "pipeline = [\n",
    "    {\n",
    "        \"$group\": {                                           # Group assignments by student_id\n",
    "            \"_id\": \"$student_id\",\n",
    "            \"average_grade\": {\"$avg\": \"$grade_point\"},        # Calculate each student's average grade\n",
    "            \"assignments_count\": {\"$sum\": 1}                  # Count total assignments per student\n",
    "        }\n",
    "    },\n",
    "    {\n",
    "        \"$project\": {                                         # Format the output\n",
    "            \"_id\": 0,\n",
    "            \"student_id\": \"$_id\",\n",
    "            \"average_grade\": {\"$round\": [\"$average_grade\", 2]},  # Round average grade to 2 decimals\n",
    "            \"assignments_count\": 1\n",
    "        }\n",
    "    },\n",
    "    {\"$sort\": {\"average_grade\": -1}},                        # Sort students by average grade (highest first)\n",
    "    {\"$limit\": 5}                                            # Return only the top 5 students\n",
    "]\n",
    "\n",
    "# Execute aggregation and display results\n",
    "results = aggregate(assignment, pipeline)\n",
    "for result in results:\n",
    "    print(result)\n",
    "\n"
   ]
  },
  {
   "cell_type": "markdown",
   "id": "91da78ad",
   "metadata": {},
   "source": [
    "4.3 - Instructor Analytics:\n"
   ]
  },
  {
   "cell_type": "markdown",
   "id": "c816e572",
   "metadata": {},
   "source": [
    "4.3.1 - Total students taught by each instructor"
   ]
  },
  {
   "cell_type": "code",
   "execution_count": 123,
   "id": "0a6de4fb",
   "metadata": {},
   "outputs": [
    {
     "name": "stdout",
     "output_type": "stream",
     "text": [
      "4\n",
      "{'instructorId': 'user_17', 'total_students': 15}\n",
      "{'instructorId': 'user_19', 'total_students': 15}\n",
      "{'instructorId': 'user_18', 'total_students': 15}\n",
      "{'instructorId': 'user_20', 'total_students': 13}\n"
     ]
    }
   ],
   "source": [
    "# Calculate the total number of unique students taught by each instructor\n",
    "pipeline = [\n",
    "    # Join 'courses' with 'enrollment' collection to connect instructors with their enrolled students\n",
    "    {\n",
    "        \"$lookup\": {\n",
    "            \"from\": \"enrollment\",\n",
    "            \"localField\": \"course_id\",     # Match by course_id in 'courses'\n",
    "            \"foreignField\": \"course_id\",   # Match by course_id in 'enrollment'\n",
    "            \"as\": \"enrollments\"            # Store matching documents in 'enrollments' array\n",
    "        }\n",
    "    },\n",
    "\n",
    "    # Flatten the enrollments array so each enrollment becomes a separate document\n",
    "    {\"$unwind\": \"$enrollments\"},\n",
    "\n",
    "    # Group by instructorId to aggregate all students under each instructor\n",
    "    {\n",
    "        \"$group\": {\n",
    "            \"_id\": \"$instructorId\",\n",
    "            \"unique_students\": {\"$addToSet\": \"$enrollments.student_id\"}  # Collect unique student IDs per instructor\n",
    "        }\n",
    "    },\n",
    "\n",
    "    # Calculate total number of unique students per instructor\n",
    "    {\n",
    "        \"$project\": {\n",
    "            \"_id\": 0,\n",
    "            \"instructorId\": \"$_id\",\n",
    "            \"total_students\": {\"$size\": \"$unique_students\"}  # Count how many unique students each instructor has\n",
    "        }\n",
    "    },\n",
    "\n",
    "    # Sort instructors by total student count in descending order\n",
    "    {\"$sort\": {\"total_students\": -1}}\n",
    "]\n",
    "\n",
    "# Execute aggregation and display results\n",
    "results = aggregate(courses, pipeline)\n",
    "\n",
    "for result in results:\n",
    "    print(result)\n"
   ]
  },
  {
   "cell_type": "markdown",
   "id": "235bcb68",
   "metadata": {},
   "source": [
    "4.3.2 - Average course rating per instructor\n"
   ]
  },
  {
   "cell_type": "code",
   "execution_count": 124,
   "id": "9a982f5f",
   "metadata": {},
   "outputs": [],
   "source": [
    "# Calculate the average course rating per instructor\n",
    "pipeline = [\n",
    "    {\n",
    "        \"$group\": {                                      # Group courses by instructorId\n",
    "            \"_id\": \"$instructorId\",\n",
    "            \"avg_rating\": {\"$avg\": \"$rating\"},           # Calculate each instructor’s average rating\n",
    "            \"total_courses\": {\"$sum\": 1}                 # Count total courses taught by the instructor\n",
    "        }\n",
    "    },\n",
    "    {\n",
    "        \"$project\": {                                    # Format the output\n",
    "            \"_id\": 0,\n",
    "            \"instructorId\": \"$_id\",\n",
    "            \"avg_rating\": {\"$round\": [\"$avg_rating\", 2]},  # Round average rating to 2 decimal places\n",
    "            \"total_courses\": 1\n",
    "        }\n",
    "    },\n",
    "    {\"$sort\": {\"avg_rating\": -1}}                       # Sort instructors by rating in descending order\n",
    "]\n",
    "\n"
   ]
  },
  {
   "cell_type": "code",
   "execution_count": 125,
   "id": "e096b4ba",
   "metadata": {},
   "outputs": [
    {
     "name": "stdout",
     "output_type": "stream",
     "text": [
      "4\n",
      "{'total_courses': 6, 'instructorId': 'user_18', 'avg_rating': 4.3}\n",
      "{'total_courses': 6, 'instructorId': 'user_20', 'avg_rating': 4.03}\n",
      "{'total_courses': 5, 'instructorId': 'user_19', 'avg_rating': 3.8}\n",
      "{'total_courses': 10, 'instructorId': 'user_17', 'avg_rating': 3.8}\n"
     ]
    }
   ],
   "source": [
    "results = aggregate(courses, pipeline)\n",
    "for result in results:\n",
    "    print(result)"
   ]
  },
  {
   "cell_type": "markdown",
   "id": "417bb7c3",
   "metadata": {},
   "source": [
    "4.3.3 - Revenue generated per instructor"
   ]
  },
  {
   "cell_type": "code",
   "execution_count": 126,
   "id": "8399eb4e",
   "metadata": {},
   "outputs": [
    {
     "name": "stdout",
     "output_type": "stream",
     "text": [
      "4\n",
      "{'total_courses': 6, 'instructorId': 'user_20', 'total_revenue': 305, 'avg_course_price': 50.83}\n",
      "{'total_courses': 6, 'instructorId': 'user_18', 'total_revenue': 206, 'avg_course_price': 34.33}\n",
      "{'total_courses': 10, 'instructorId': 'user_17', 'total_revenue': 205, 'avg_course_price': 20.5}\n",
      "{'total_courses': 5, 'instructorId': 'user_19', 'total_revenue': 186, 'avg_course_price': 37.2}\n"
     ]
    }
   ],
   "source": [
    "# Calculate total revenue, total courses, and average course price per instructor\n",
    "pipeline = [\n",
    "\n",
    "    # Group all courses by instructorId\n",
    "    {\n",
    "        \"$group\": {\n",
    "            \"_id\": \"$instructorId\",\n",
    "            \"total_revenue\": {\"$sum\": \"$price\"},           # Sum of all course prices per instructor\n",
    "            \"total_courses\": {\"$sum\": 1},                  # Count total number of courses per instructor\n",
    "            \"avg_course_price\": {\"$avg\": \"$price\"}         # Compute average course price\n",
    "        }\n",
    "    },\n",
    "    \n",
    "    # Format and round the output values\n",
    "    {\n",
    "        \"$project\": {\n",
    "            \"_id\": 0,\n",
    "            \"instructorId\": \"$_id\",\n",
    "            \"total_revenue\": {\"$round\": [\"$total_revenue\", 2]},     # Round revenue to 2 decimals\n",
    "            \"total_courses\": 1,\n",
    "            \"avg_course_price\": {\"$round\": [\"$avg_course_price\", 2]} # Round average price to 2 decimals\n",
    "        }\n",
    "    },\n",
    "    \n",
    "    # Sort instructors by total revenue in descending order\n",
    "    {\"$sort\": {\"total_revenue\": -1}}\n",
    "]\n",
    "\n",
    "# Execute the aggregation and print results\n",
    "results = aggregate(courses, pipeline)\n",
    "for result in results:\n",
    "    print(result)\n"
   ]
  },
  {
   "cell_type": "markdown",
   "id": "4ac27ad6",
   "metadata": {},
   "source": [
    "4.4 - Advanced Analytics:"
   ]
  },
  {
   "cell_type": "markdown",
   "id": "1abbc77f",
   "metadata": {},
   "source": [
    "4.4.1 - Monthly enrollment trends"
   ]
  },
  {
   "cell_type": "code",
   "execution_count": 127,
   "id": "44278558",
   "metadata": {},
   "outputs": [
    {
     "name": "stdout",
     "output_type": "stream",
     "text": [
      "1\n",
      "{'total_enrollments': 45, 'year': 2024, 'month': 10}\n"
     ]
    }
   ],
   "source": [
    "# Analyze monthly enrollment trends over time\n",
    "pipeline = [\n",
    "    # Extract year and month from enrollment_date\n",
    "    {\n",
    "        \"$addFields\": {\n",
    "            \"year\": {\"$year\": \"$enrollment_date\"},\n",
    "            \"month\": {\"$month\": \"$enrollment_date\"}\n",
    "        }\n",
    "    },\n",
    "\n",
    "    # Group by year and month to count enrollments per period\n",
    "    {\n",
    "        \"$group\": {\n",
    "            \"_id\": {\"year\": \"$year\", \"month\": \"$month\"},\n",
    "            \"total_enrollments\": {\"$sum\": 1}\n",
    "        }\n",
    "    },\n",
    "\n",
    "    # Sort results by year and month to show chronological trend\n",
    "    {\n",
    "        \"$sort\": {\n",
    "            \"_id.year\": 1,\n",
    "            \"_id.month\": 1\n",
    "        }\n",
    "    },\n",
    "\n",
    "    # Format output for readability\n",
    "    {\n",
    "        \"$project\": {\n",
    "            \"_id\": 0,\n",
    "            \"year\": \"$_id.year\",\n",
    "            \"month\": \"$_id.month\",\n",
    "            \"total_enrollments\": 1\n",
    "        }\n",
    "    }\n",
    "]\n",
    "\n",
    "# Execute aggregation and print monthly enrollment results\n",
    "results = aggregate(enrollment, pipeline)\n",
    "\n",
    "for result in results:\n",
    "    print(result)\n",
    "\n"
   ]
  },
  {
   "cell_type": "markdown",
   "id": "0e78ad41",
   "metadata": {},
   "source": [
    "4.4.2 - Most popular course categories\n"
   ]
  },
  {
   "cell_type": "code",
   "execution_count": 128,
   "id": "2d11ff17",
   "metadata": {},
   "outputs": [
    {
     "name": "stdout",
     "output_type": "stream",
     "text": [
      "3\n",
      "{'total_enrollments': 75, 'categories': 'math'}\n",
      "{'total_enrollments': 35, 'categories': 'cs'}\n",
      "{'total_enrollments': 21, 'categories': 'data'}\n"
     ]
    }
   ],
   "source": [
    "# Identify the most popular course categories based on enrollment data\n",
    "pipeline = [\n",
    "    # Join 'enrollment' with 'courses' to access category information\n",
    "    {\n",
    "        \"$lookup\": {\n",
    "            \"from\": \"courses\",\n",
    "            \"localField\": \"course_id\",          # Match course_id in 'enrollment'\n",
    "            \"foreignField\": \"course_id\",        # With course_id in 'courses'\n",
    "            \"as\": \"course_info\"                 # Store matched course details\n",
    "        }\n",
    "    },\n",
    "\n",
    "    # Flatten the joined course_info array\n",
    "    {\"$unwind\": \"$course_info\"},\n",
    "\n",
    "    # Group by course category and count total enrollments per category\n",
    "    {\n",
    "        \"$group\": {\n",
    "            \"_id\": \"$course_info.category\",\n",
    "            \"total_enrollments\": {\"$sum\": 1}\n",
    "        }\n",
    "    },\n",
    "\n",
    "    # Sort categories by total enrollments (highest first)\n",
    "    {\"$sort\": {\"total_enrollments\": -1}},\n",
    "\n",
    "    # Limit results to top three most popular categories\n",
    "    {\"$limit\": 3},\n",
    "\n",
    "    # Format the output for readability\n",
    "    {\n",
    "        \"$project\": {\n",
    "            \"_id\": 0,\n",
    "            \"categories\": \"$_id\",\n",
    "            \"total_enrollments\": 1\n",
    "        }\n",
    "    }\n",
    "]\n",
    "\n",
    "# Execute aggregation and display top categories\n",
    "results = aggregate(enrollment, pipeline)\n",
    "for result in results:\n",
    "    print(result)\n",
    "\n",
    "\n"
   ]
  },
  {
   "cell_type": "markdown",
   "id": "eb37a905",
   "metadata": {},
   "source": [
    "4.4.3 - Student engagement metrics"
   ]
  },
  {
   "cell_type": "code",
   "execution_count": 129,
   "id": "8f92d630",
   "metadata": {},
   "outputs": [
    {
     "name": "stdout",
     "output_type": "stream",
     "text": [
      "1\n",
      "{'total_assignments': 20, 'submitted_assignments': 0, 'student_id': ['student1', 'student2', 'student3', 'student4', 'student5', 'student6', 'student7', 'student8', 'student9', 'student10', 'student11', 'student12', 'student13', 'student14', 'student15', 'student16'], 'engagement_rate': 0.0}\n"
     ]
    }
   ],
   "source": [
    "# Measure student engagement based on assignment submission rates\n",
    "pipeline = [\n",
    "    # Group assignments by student_id\n",
    "    {\n",
    "        \"$group\": {\n",
    "            \"_id\": \"$student_id\",\n",
    "            \"total_assignments\": {\"$sum\": 1},                         # Count all assignments\n",
    "            \"submitted_assignments\": {                                # Count only submitted ones\n",
    "                \"$sum\": {\"$cond\": [{\"$eq\": [\"$isSubmitted\", True]}, 1, 0]}\n",
    "            }\n",
    "        }\n",
    "    },\n",
    "\n",
    "    # Calculate engagement rate as a percentage of submitted assignments\n",
    "    {\n",
    "        \"$project\": {\n",
    "            \"_id\": 0,\n",
    "            \"student_id\": \"$_id\",\n",
    "            \"total_assignments\": 1,\n",
    "            \"submitted_assignments\": 1,\n",
    "            \"engagement_rate\": {                                      # (submitted / total) * 100\n",
    "                \"$round\": [\n",
    "                    {\n",
    "                        \"$multiply\": [\n",
    "                            {\"$divide\": [\"$submitted_assignments\", \"$total_assignments\"]},\n",
    "                            100\n",
    "                        ]\n",
    "                    },\n",
    "                    2                                                 # Round to 2 decimal places\n",
    "                ]\n",
    "            }\n",
    "        }\n",
    "    },\n",
    "\n",
    "    # Sort students by engagement rate (highest first)\n",
    "    {\"$sort\": {\"engagement_rate\": -1}}\n",
    "]\n",
    "\n",
    "# Execute aggregation and print engagement results\n",
    "results = aggregate(assignment, pipeline)\n",
    "for result in results:\n",
    "    print(result)\n",
    "\n"
   ]
  },
  {
   "cell_type": "markdown",
   "id": "7c82bb59",
   "metadata": {},
   "source": [
    "Part 5: Indexing and Performance"
   ]
  },
  {
   "cell_type": "markdown",
   "id": "7d24aec3",
   "metadata": {},
   "source": [
    "Task 5.1: Index Creation"
   ]
  },
  {
   "cell_type": "markdown",
   "id": "7eaea02e",
   "metadata": {},
   "source": [
    "5.1.1 - User email lookup"
   ]
  },
  {
   "cell_type": "code",
   "execution_count": 130,
   "id": "41991aa9",
   "metadata": {},
   "outputs": [
    {
     "name": "stdout",
     "output_type": "stream",
     "text": [
      " Index 'email_1' created on 'email' field.\n"
     ]
    },
    {
     "data": {
      "text/plain": [
       "'email_1'"
      ]
     },
     "execution_count": 130,
     "metadata": {},
     "output_type": "execute_result"
    }
   ],
   "source": [
    "# Create a unique index on the 'email' field in the 'users' collection to prevent duplicates\n",
    "create_index_safe(users, \"email\", unique=True)\n",
    "\n"
   ]
  },
  {
   "cell_type": "code",
   "execution_count": 131,
   "id": "709268a1",
   "metadata": {},
   "outputs": [
    {
     "name": "stdout",
     "output_type": "stream",
     "text": [
      "{'_id_': {'v': 2, 'key': [('_id', 1)]}, 'email_1': {'v': 2, 'key': [('email', 1)], 'unique': True}}\n"
     ]
    }
   ],
   "source": [
    "print(users.index_information())"
   ]
  },
  {
   "cell_type": "markdown",
   "id": "7eee185a",
   "metadata": {},
   "source": [
    "5.1.2 - Course search by title and category"
   ]
  },
  {
   "cell_type": "code",
   "execution_count": 132,
   "id": "ed50743a",
   "metadata": {},
   "outputs": [
    {
     "name": "stdout",
     "output_type": "stream",
     "text": [
      " Index 'title_1' created on 'title' field.\n",
      " Index 'category_1' created on 'category' field.\n"
     ]
    },
    {
     "data": {
      "text/plain": [
       "'category_1'"
      ]
     },
     "execution_count": 132,
     "metadata": {},
     "output_type": "execute_result"
    }
   ],
   "source": [
    "# Create an index on the 'title' field to speed up course title searches\n",
    "create_index_safe(courses, \"title\")\n",
    "\n",
    "# Create an index on the 'category' field to optimize queries filtering by category\n",
    "create_index_safe(courses, \"category\")\n"
   ]
  },
  {
   "cell_type": "code",
   "execution_count": 133,
   "id": "40ad7f70",
   "metadata": {},
   "outputs": [
    {
     "name": "stdout",
     "output_type": "stream",
     "text": [
      "{'_id_': {'v': 2, 'key': [('_id', 1)]}, 'category_1_title_1': {'v': 2, 'key': [('category', 1), ('title', 1)]}, 'title_1': {'v': 2, 'key': [('title', 1)]}, 'category_1': {'v': 2, 'key': [('category', 1)]}}\n"
     ]
    }
   ],
   "source": [
    "print(courses.index_information())"
   ]
  },
  {
   "cell_type": "markdown",
   "id": "a9e782d6",
   "metadata": {},
   "source": [
    "5.1.3 - Assignment queries by due date"
   ]
  },
  {
   "cell_type": "code",
   "execution_count": 134,
   "id": "815b97e3",
   "metadata": {},
   "outputs": [
    {
     "name": "stdout",
     "output_type": "stream",
     "text": [
      " Index 'due_date_1' created on 'due_date' field.\n"
     ]
    },
    {
     "data": {
      "text/plain": [
       "'due_date_1'"
      ]
     },
     "execution_count": 134,
     "metadata": {},
     "output_type": "execute_result"
    }
   ],
   "source": [
    "# Create an index on the 'due_date' field to improve performance of assignment deadline queries\n",
    "create_index_safe(assignment, \"due_date\")\n",
    "\n"
   ]
  },
  {
   "cell_type": "code",
   "execution_count": 135,
   "id": "b8c169aa",
   "metadata": {},
   "outputs": [
    {
     "name": "stdout",
     "output_type": "stream",
     "text": [
      "{'_id_': {'v': 2, 'key': [('_id', 1)]}, 'due_date_1': {'v': 2, 'key': [('due_date', 1)]}}\n"
     ]
    }
   ],
   "source": [
    "print(assignment.index_information())\n"
   ]
  },
  {
   "cell_type": "markdown",
   "id": "a98494eb",
   "metadata": {},
   "source": [
    "5.1.4 - Enrollment queries by student and course"
   ]
  },
  {
   "cell_type": "code",
   "execution_count": 136,
   "id": "4f08bd47",
   "metadata": {},
   "outputs": [
    {
     "name": "stdout",
     "output_type": "stream",
     "text": [
      " Index 'student_id_1' created on 'student_id' field.\n",
      " Index 'course_id_1' created on 'course_id' field.\n"
     ]
    },
    {
     "data": {
      "text/plain": [
       "'course_id_1'"
      ]
     },
     "execution_count": 136,
     "metadata": {},
     "output_type": "execute_result"
    }
   ],
   "source": [
    "# Create an index on 'student_id' to optimize queries filtering enrollments by student\n",
    "create_index_safe(enrollment, \"student_id\")\n",
    "\n",
    "# Create an index on 'course_id' to speed up queries retrieving enrollments per course\n",
    "create_index_safe(enrollment, \"course_id\")\n"
   ]
  }
 ],
 "metadata": {
  "kernelspec": {
   "display_name": "base",
   "language": "python",
   "name": "python3"
  },
  "language_info": {
   "codemirror_mode": {
    "name": "ipython",
    "version": 3
   },
   "file_extension": ".py",
   "mimetype": "text/x-python",
   "name": "python",
   "nbconvert_exporter": "python",
   "pygments_lexer": "ipython3",
   "version": "3.11.4"
  }
 },
 "nbformat": 4,
 "nbformat_minor": 5
}
